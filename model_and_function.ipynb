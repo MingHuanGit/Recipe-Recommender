{
 "cells": [
  {
   "cell_type": "code",
   "execution_count": 24,
   "metadata": {
    "collapsed": true,
    "ExecuteTime": {
     "end_time": "2023-08-31T11:39:52.086490300Z",
     "start_time": "2023-08-31T11:39:51.693540900Z"
    }
   },
   "outputs": [],
   "source": [
    "import pandas as pd\n",
    "import ast\n",
    "import re\n",
    "import unidecode\n",
    "from sklearn.feature_extraction.text import TfidfVectorizer\n",
    "from nltk.stem import WordNetLemmatizer\n",
    "import string\n",
    "from sklearn.metrics.pairwise import cosine_similarity\n",
    "from IPython.display import HTML"
   ]
  },
  {
   "cell_type": "code",
   "execution_count": 25,
   "outputs": [],
   "source": [
    "df = pd.read_csv('Cleaned_data.csv') # Read in clean data\n",
    "del df['Unnamed: 0'] # Delete 'Unnamed: 0' column"
   ],
   "metadata": {
    "collapsed": false,
    "ExecuteTime": {
     "end_time": "2023-08-31T11:39:52.106445800Z",
     "start_time": "2023-08-31T11:39:51.717476900Z"
    }
   }
  },
  {
   "cell_type": "code",
   "execution_count": 26,
   "outputs": [],
   "source": [
    "# Get rid of duplicate ingredients in Ingredients_final\n",
    "df['Ingredients_final'] = df['Ingredients_final'].apply(lambda x: ' '.join(set(x.split())))"
   ],
   "metadata": {
    "collapsed": false,
    "ExecuteTime": {
     "end_time": "2023-08-31T11:39:52.107433500Z",
     "start_time": "2023-08-31T11:39:51.808238Z"
    }
   }
  },
  {
   "cell_type": "code",
   "execution_count": 27,
   "outputs": [],
   "source": [
    "tfidf = TfidfVectorizer() # Set TfidfVectorizer()\n",
    "tfidf.fit(df['Ingredients_final'].values.astype('U')) # Create model\n",
    "tfidf_recipe = tfidf.transform(df['Ingredients_final']) # Create encodings"
   ],
   "metadata": {
    "collapsed": false,
    "ExecuteTime": {
     "end_time": "2023-08-31T11:39:52.107433500Z",
     "start_time": "2023-08-31T11:39:51.859099300Z"
    }
   }
  },
  {
   "cell_type": "code",
   "execution_count": 28,
   "outputs": [],
   "source": [
    "# Define function that parses user input ingredients\n",
    "def ingredient_parser(ingredients):\n",
    "    measures = ['teaspoon', 't', 'tsp.', 'tsp', 'tablespoon', 'T', 'tbl.', 'tb', 'tbsp.','tbsp', 'fluid ounce', 'fl oz', 'gill', 'cup', 'c', 'pint', 'p', 'pt', 'fl pt', 'quart', 'q', 'qt', 'fl qt', 'gallon', 'g', 'gal', 'ml', 'milliliter', 'millilitre', 'cc', 'mL', 'l', 'liter', 'litre', 'L', 'dl', 'deciliter', 'decilitre', 'dL', 'bulb', 'level', 'heaped', 'rounded', 'whole', 'pinch', 'medium', 'slice', 'pound', 'lb', '#', 'ounce', 'oz', 'mg', 'milligram', 'milligramme', 'g', 'gram', 'gramme', 'kg', 'kilogram', 'kilogramme', 'x', 'of', 'mm', 'millimetre', 'millimeter', 'cm', 'centimeter', 'centimetre', 'm', 'meter', 'metre', 'inch', 'in', 'milli', 'centi', 'deci', 'hecto', 'kilo']\n",
    "    bad_words = ['oil', 'fresh', 'olive', 'a', 'red', 'sauce', 'clove', 'or', 'pepper', 'bunch', 'salt', 'and', 'leaf', 'chilli', 'large', 'extra', 'water', 'white', 'ground', 'dried', 'sprig', 'small', 'free', 'handful', 'sugar', 'from', 'virgin', 'soy', 'black', 'chopped', 'vinegar', 'green', 'piece', 'seed', 'for', 'sustainable', 'range', 'cornstarch', 'higher', 'welfare', 'to', 'peeled', 'sesame', 'flour', 'tin', 'finely', 'the', 'freshly', 'bean', 'quality', 'few', 'ripe', 'parsley', 'sea', 'stock', 'source', 'flat', 'vegetable', 'smoked', 'organic', 'spring', 'fillet', 'sliced', 'plus', 'corn', 'plain', 'stick', 'cooking', 'light', 'picked', 'mixed', 'your', 'powder', 'bay', 'optional', 'baby', 'serve', 'stalk', 'unsalted', 'plum', 'natural', 'fat', 'fish', 'sweet', 'skin', 'such', 'juice', 'ask', 'brown', 'into', 'on', 'yellow', 'roughly', 'cut', 'good', 'dark', 'chili', 'orange', 'cherry', 'grated', 'frozen', 'bread', 'trimmed', 'breast', 'low', 'knob', 'dusting', 'salad', 'bell', 'cooked', 'runny', 'deseeded', 'balsamic', 'with', 'paste', 'bouillon', 'curry', 'streaky', 'use', 'pin', 'rasher', 'nut', 'cream', 'if', 'groundnut', 'soft', 'you', 'squash', 'tamari', 'chinese', 'zest', 'baking', 'grating', 'bone', 'hot', 'steak', 'boiling', 'minced', 'thigh', 'can', 'other', 'colour', 'shiitake', 'puree', 'dry', 'halved', 'skinless', 'spice', 'amount', 'chive', 'tinned', 'english', 'butternut', 'splash', 'shoulder', 'king', 'leftover', 'washed', 'firm', 'thick', 'flake', 'stir', 'broth', 'caper', 'big', 'dijon', 'is', 'little', 'pastry', 'five', 'sized', 'fishmonger', 'deep', 'removed', 'any', 'cube', 'frying', 'raw']\n",
    "\n",
    "    translator = str.maketrans('', '', string.punctuation) # Get rid of punctuations using maketrans\n",
    "    lemmatizer = WordNetLemmatizer() # Set lemmatizer\n",
    "    new_ingred_list = [] # Empty list for parsed ingredients\n",
    "\n",
    "    # Loop through each ingredient\n",
    "    for i in ingredients:\n",
    "        i.translate(translator) # Get rid of punctuation\n",
    "        items = re.split(' |-', i) # Split with where there is a space or hyphenated words\n",
    "        items = [word for word in items if word.isalpha()] # Get rid of non alphabet words\n",
    "        items = [word.lower() for word in items] # Make everything lower case\n",
    "        items = [unidecode.unidecode(word) for word in items] # Unidecode each word\n",
    "        items = [lemmatizer.lemmatize(word) for word in items] # Lemmatize each word\n",
    "        items = [word for word in items if word not in measures] # Take out measure words\n",
    "        items = [word for word in items if word not in bad_words] # Take out bad words\n",
    "\n",
    "        new_ingred_list.append(' '.join(items))# Append to list\n",
    "\n",
    "    return ' '.join(new_ingred_list) # Return new parsed ingredients"
   ],
   "metadata": {
    "collapsed": false,
    "ExecuteTime": {
     "end_time": "2023-08-31T11:39:52.109428800Z",
     "start_time": "2023-08-31T11:39:51.987754400Z"
    }
   }
  },
  {
   "cell_type": "code",
   "execution_count": 29,
   "outputs": [
    {
     "data": {
      "text/plain": "array([[0.11710823],\n       [0.        ],\n       [0.08470417],\n       ...,\n       [0.07795387],\n       [0.13567231],\n       [0.07026621]])"
     },
     "execution_count": 29,
     "metadata": {},
     "output_type": "execute_result"
    }
   ],
   "source": [
    "# Example\n",
    "input_i = ['rice', 'chicken', 'egg', 'spring onion', 'beetroot'] # Example user input ingredients\n",
    "\n",
    "# Parse the ingredients using ingredient_parser()\n",
    "input_parsed = ingredient_parser(input_i)\n",
    "# Use pretrained tfidf model to encode our input ingredients\n",
    "ingredients_tfidf = tfidf.transform([input_parsed])\n",
    "# Calculate cosine similarity between actual recipe ingredients and test ingredients\n",
    "cos_sim = cosine_similarity(tfidf_recipe, ingredients_tfidf)\n",
    "cos_sim"
   ],
   "metadata": {
    "collapsed": false,
    "ExecuteTime": {
     "end_time": "2023-08-31T11:39:52.110426800Z",
     "start_time": "2023-08-31T11:39:52.016676500Z"
    }
   }
  },
  {
   "cell_type": "code",
   "execution_count": 30,
   "outputs": [
    {
     "data": {
      "text/plain": "                                        Title  \\\n1023                  Ginger Fried Rice (薑炒飯)   \n115   Potato rostis with beetroot horseradish   \n922                  Sliced Fish Congee (魚片粥)   \n89                   Mustard chicken Milanese   \n105      Farro, cauliflower & asparagus salad   \n\n                                            Ingredients    Servings  \\\n1023  ['2 oz ginger', '3 oz chicken', '3 egg', '1 ts...  4 servings   \n115   ['2 large potatoes', '½ a red onion', '1 clove...    4 rostis   \n922   ['10 oz fish', '0.50 lb rice', '6 cup water', ...  4 servings   \n89    ['4 x 120 g free-range chicken breasts', '4 ta...           4   \n105   ['200 g farro (see tip)', '1 cauliflower', '25...       4 - 6   \n\n          Difficulty Calories   Time  \\\n1023         unknown  unknown  00:30   \n115       Super easy    220.0  00:25   \n922          unknown  unknown  00:45   \n89       Showing off    640.0  00:45   \n105   Not too tricky    566.0  00:40   \n\n                                                    URL  \\\n1023  https://www.madewithlau.com/recipes/ginger-fri...   \n115   https://www.jamieoliver.com/recipes/vegetables...   \n922   https://www.madewithlau.com/recipes/sliced-fis...   \n89    https://www.jamieoliver.com/recipes/chicken-re...   \n105   https://www.jamieoliver.com/recipes/vegetables...   \n\n                                     Ingredients_parsed  \\\n1023  ginger chicken egg salt white rice water stalk...   \n115   large potato a red onion clove garlic cumin se...   \n922   fish rice water ginger stalk green onion cilan...   \n89    free range chicken breast english mustard powd...   \n105   farro cauliflower asparagus olive oil large fr...   \n\n                                      Ingredients_final  Rec_score  \n1023                      chicken egg ginger rice onion   0.608761  \n115   potato cumin horseradish beetroot creamed garl...   0.379857  \n922                      cilantro egg ginger rice onion   0.358017  \n89    cheddar mustard chicken beetroot breadcrumb ea...   0.350187  \n105   farro wine raisin cauliflower herb dill beetro...   0.321246  ",
      "text/html": "<div>\n<style scoped>\n    .dataframe tbody tr th:only-of-type {\n        vertical-align: middle;\n    }\n\n    .dataframe tbody tr th {\n        vertical-align: top;\n    }\n\n    .dataframe thead th {\n        text-align: right;\n    }\n</style>\n<table border=\"1\" class=\"dataframe\">\n  <thead>\n    <tr style=\"text-align: right;\">\n      <th></th>\n      <th>Title</th>\n      <th>Ingredients</th>\n      <th>Servings</th>\n      <th>Difficulty</th>\n      <th>Calories</th>\n      <th>Time</th>\n      <th>URL</th>\n      <th>Ingredients_parsed</th>\n      <th>Ingredients_final</th>\n      <th>Rec_score</th>\n    </tr>\n  </thead>\n  <tbody>\n    <tr>\n      <th>1023</th>\n      <td>Ginger Fried Rice (薑炒飯)</td>\n      <td>['2 oz ginger', '3 oz chicken', '3 egg', '1 ts...</td>\n      <td>4 servings</td>\n      <td>unknown</td>\n      <td>unknown</td>\n      <td>00:30</td>\n      <td>https://www.madewithlau.com/recipes/ginger-fri...</td>\n      <td>ginger chicken egg salt white rice water stalk...</td>\n      <td>chicken egg ginger rice onion</td>\n      <td>0.608761</td>\n    </tr>\n    <tr>\n      <th>115</th>\n      <td>Potato rostis with beetroot horseradish</td>\n      <td>['2 large potatoes', '½ a red onion', '1 clove...</td>\n      <td>4 rostis</td>\n      <td>Super easy</td>\n      <td>220.0</td>\n      <td>00:25</td>\n      <td>https://www.jamieoliver.com/recipes/vegetables...</td>\n      <td>large potato a red onion clove garlic cumin se...</td>\n      <td>potato cumin horseradish beetroot creamed garl...</td>\n      <td>0.379857</td>\n    </tr>\n    <tr>\n      <th>922</th>\n      <td>Sliced Fish Congee (魚片粥)</td>\n      <td>['10 oz fish', '0.50 lb rice', '6 cup water', ...</td>\n      <td>4 servings</td>\n      <td>unknown</td>\n      <td>unknown</td>\n      <td>00:45</td>\n      <td>https://www.madewithlau.com/recipes/sliced-fis...</td>\n      <td>fish rice water ginger stalk green onion cilan...</td>\n      <td>cilantro egg ginger rice onion</td>\n      <td>0.358017</td>\n    </tr>\n    <tr>\n      <th>89</th>\n      <td>Mustard chicken Milanese</td>\n      <td>['4 x 120 g free-range chicken breasts', '4 ta...</td>\n      <td>4</td>\n      <td>Showing off</td>\n      <td>640.0</td>\n      <td>00:45</td>\n      <td>https://www.jamieoliver.com/recipes/chicken-re...</td>\n      <td>free range chicken breast english mustard powd...</td>\n      <td>cheddar mustard chicken beetroot breadcrumb ea...</td>\n      <td>0.350187</td>\n    </tr>\n    <tr>\n      <th>105</th>\n      <td>Farro, cauliflower &amp; asparagus salad</td>\n      <td>['200 g farro (see tip)', '1 cauliflower', '25...</td>\n      <td>4 - 6</td>\n      <td>Not too tricky</td>\n      <td>566.0</td>\n      <td>00:40</td>\n      <td>https://www.jamieoliver.com/recipes/vegetables...</td>\n      <td>farro cauliflower asparagus olive oil large fr...</td>\n      <td>farro wine raisin cauliflower herb dill beetro...</td>\n      <td>0.321246</td>\n    </tr>\n  </tbody>\n</table>\n</div>"
     },
     "execution_count": 30,
     "metadata": {},
     "output_type": "execute_result"
    }
   ],
   "source": [
    "df['Rec_score'] = cos_sim\n",
    "df.sort_values('Rec_score', ascending=False).head(5)"
   ],
   "metadata": {
    "collapsed": false,
    "ExecuteTime": {
     "end_time": "2023-08-31T11:39:52.201191300Z",
     "start_time": "2023-08-31T11:39:52.049589700Z"
    }
   }
  },
  {
   "cell_type": "code",
   "execution_count": 31,
   "outputs": [],
   "source": [
    "# Define a function that gets cosine similarity scores with each recipe, taking in ingredient parameters\n",
    "def get_scores(i):\n",
    "    input_parsed = ingredient_parser(i)\n",
    "    # Use pretrained tfidf model to encode our input ingredients\n",
    "    ingredients_tfidf = tfidf.transform([input_parsed])\n",
    "    # Calculate cosine similarity between actual recipe ingredients and test ingredients\n",
    "    cos_sim = cosine_similarity(tfidf_recipe, ingredients_tfidf)\n",
    "    return cos_sim"
   ],
   "metadata": {
    "collapsed": false,
    "ExecuteTime": {
     "end_time": "2023-08-31T11:39:52.202182300Z",
     "start_time": "2023-08-31T11:39:52.125387600Z"
    }
   }
  },
  {
   "cell_type": "code",
   "execution_count": 32,
   "outputs": [],
   "source": [
    "# Define a function that recommends N recipes based on highest cos_sim scores\n",
    "def get_recommendations(scores, N=5):\n",
    "    df_copy = df.copy() # Copy dataframe\n",
    "    df_copy['Rec_score'] = scores # Put scores into dataframe\n",
    "    # Order the scores with 'Rec_score' and sort to get the highest N scores\n",
    "    top = df_copy.sort_values('Rec_score', ascending=False).head(N)\n",
    "    # Create dataframe to load in recommendations\n",
    "    recommendation = top[['Title', 'Ingredients','Servings', 'Difficulty', 'Calories', 'Time', 'URL', 'Rec_score']]\n",
    "    return recommendation"
   ],
   "metadata": {
    "collapsed": false,
    "ExecuteTime": {
     "end_time": "2023-08-31T11:39:52.202182300Z",
     "start_time": "2023-08-31T11:39:52.142341800Z"
    }
   }
  },
  {
   "cell_type": "code",
   "execution_count": 33,
   "outputs": [],
   "source": [
    "# Final function that takes in user ingredients and outputs N highest scoring recipes\n",
    "def recipe_recommender():\n",
    "\n",
    "    user_ingreds = [] # Empty list to store users ingredients\n",
    "    user_input = '' # Set user_input as nothing to enter while loop below\n",
    "\n",
    "    while user_input != 'done': # When user enters 'done', while loop exits\n",
    "        user_input = input('Please enter an ingredient, when finished enter \"done\":').lower() # Ask for input ingredient\n",
    "        if user_input != 'done': # Append to list if user_input is not 'done'\n",
    "            user_ingreds.append(user_input)\n",
    "\n",
    "    # Ask user for number of recipes to be recommended\n",
    "    while True:\n",
    "\n",
    "        # If number is given, break out of while loop\n",
    "        try:\n",
    "            N = int(input('How many recipes would you like to be recommended?:'))\n",
    "            break\n",
    "\n",
    "        # If not number, loop back and ask user again\n",
    "        except ValueError:\n",
    "            print('Please enter a number!')\n",
    "\n",
    "    # Calculate scores and recommendations\n",
    "    scores = get_scores(user_ingreds) # Get scores using get_scores() function\n",
    "    recommendations = get_recommendations(scores, N) # Get recommendations using get_recommendations() function\n",
    "\n",
    "    # Output results\n",
    "    print(f'Ingredients inputted: {user_ingreds}') # Print ingredients given\n",
    "    print('----------------------------------------')\n",
    "\n",
    "    # Iterate through each recommendation\n",
    "    for i,j in recommendations.iterrows():\n",
    "        display(HTML(f\"<b>{j[0]}</b>\")) # Display recipe name in bold\n",
    "\n",
    "        # Loop through each ingredient\n",
    "        for ingred in ast.literal_eval(j[1]):\n",
    "            print(f'- {ingred}') # Print ingredients in bullet pointed list\n",
    "        print('----------------------------------------')\n",
    "\n",
    "    del recommendations['Ingredients'] # Delete 'Ingredients' column as that is displayed above\n",
    "    return recommendations # Return dataframe with rest of the information"
   ],
   "metadata": {
    "collapsed": false,
    "ExecuteTime": {
     "end_time": "2023-08-31T11:39:52.221131200Z",
     "start_time": "2023-08-31T11:39:52.188222Z"
    }
   }
  },
  {
   "cell_type": "code",
   "execution_count": 35,
   "outputs": [
    {
     "name": "stdout",
     "output_type": "stream",
     "text": [
      "Ingredients inputted: ['rice', 'chicken', 'egg', 'spring onion', 'beetroot']\n",
      "----------------------------------------\n"
     ]
    },
    {
     "data": {
      "text/plain": "<IPython.core.display.HTML object>",
      "text/html": "<b>Ginger Fried Rice (薑炒飯)</b>"
     },
     "metadata": {},
     "output_type": "display_data"
    },
    {
     "name": "stdout",
     "output_type": "stream",
     "text": [
      "- 2 oz ginger\n",
      "- 3 oz chicken\n",
      "- 3 egg\n",
      "- 1 tsp salt (for eggs)\n",
      "- 2 cup white rice (uncooked)\n",
      "- 2 cup water\n",
      "- 2 stalk green onion\n",
      "- 2 tbsp oil\n",
      "- 1 tsp salt (for cooking)\n",
      "- 1 tbsp water\n",
      "- 1 tsp cornstarch\n",
      "- 0.50 tsp salt\n",
      "----------------------------------------\n"
     ]
    },
    {
     "data": {
      "text/plain": "<IPython.core.display.HTML object>",
      "text/html": "<b>Potato rostis with beetroot horseradish</b>"
     },
     "metadata": {},
     "output_type": "display_data"
    },
    {
     "name": "stdout",
     "output_type": "stream",
     "text": [
      "- 2 large potatoes\n",
      "- ½ a red onion\n",
      "- 1 clove of garlic\n",
      "- 1½ teaspoons cumin seeds\n",
      "- 3 tablespoons vegetable oil\n",
      "- 2 medium beetroots\n",
      "- 2 tablespoons creamed horseradish\n",
      "----------------------------------------\n"
     ]
    },
    {
     "data": {
      "text/plain": "<IPython.core.display.HTML object>",
      "text/html": "<b>Sliced Fish Congee (魚片粥)</b>"
     },
     "metadata": {},
     "output_type": "display_data"
    },
    {
     "name": "stdout",
     "output_type": "stream",
     "text": [
      "- 10 oz fish\n",
      "- 0.50 lb rice\n",
      "- 6 cup water\n",
      "- 1 oz ginger\n",
      "- 2 stalk green onion\n",
      "- 0.25 oz cilantro\n",
      "- 1 egg (egg whites only)\n",
      "- 1 tbsp cornstarch\n",
      "- 0.50 tsp salt\n",
      "- 0.25 tsp white pepper\n",
      "- 1 tbsp water\n",
      "- 1 tbsp oil\n",
      "- 1 tbsp oil\n",
      "- 1 tsp salt\n",
      "- 1 tsp fish sauce (or light soy sauce)\n",
      "----------------------------------------\n"
     ]
    },
    {
     "data": {
      "text/plain": "<IPython.core.display.HTML object>",
      "text/html": "<b>Mustard chicken Milanese</b>"
     },
     "metadata": {},
     "output_type": "display_data"
    },
    {
     "name": "stdout",
     "output_type": "stream",
     "text": [
      "- 4 x 120 g free-range chicken breasts\n",
      "- 4 tablespoons English mustard powder , plus 4 teaspoons\n",
      "- 50 g mature Cheddar cheese\n",
      "- 4 slices of higher-welfare smoked ham\n",
      "- 4 tablespoons plain flour\n",
      "- 7 large free-range eggs\n",
      "- 200 g breadcrumbs\n",
      "- olive oil\n",
      "- 1 eating apple\n",
      "- 2 medium beetroot\n",
      "- 1 tablespoon cider vinegar\n",
      "- extra virgin olive oil\n",
      "- 100 g watercress\n",
      "- 12 cornichons\n",
      "----------------------------------------\n"
     ]
    },
    {
     "data": {
      "text/plain": "<IPython.core.display.HTML object>",
      "text/html": "<b>Farro, cauliflower & asparagus salad</b>"
     },
     "metadata": {},
     "output_type": "display_data"
    },
    {
     "name": "stdout",
     "output_type": "stream",
     "text": [
      "- 200 g farro (see tip)\n",
      "- 1 cauliflower\n",
      "- 250 g asparagus\n",
      "- olive oil\n",
      "- 4 large free-range eggs\n",
      "- 2 tablespoons pine nuts\n",
      "- 3 tablespoons raisins\n",
      "- 1 handful of beetroot leaves, or other small leaves\n",
      "- HERB DRESSING\n",
      "- a few sprigs of fresh dill\n",
      "- a few sprigs of fresh flat-leaf parsley\n",
      "- a few fresh chives\n",
      "- 90 ml extra virgin olive oil\n",
      "- 2 tablespoons red wine vinegar\n",
      "----------------------------------------\n"
     ]
    },
    {
     "data": {
      "text/plain": "                                        Title    Servings      Difficulty  \\\n1023                  Ginger Fried Rice (薑炒飯)  4 servings         unknown   \n115   Potato rostis with beetroot horseradish    4 rostis      Super easy   \n922                  Sliced Fish Congee (魚片粥)  4 servings         unknown   \n89                   Mustard chicken Milanese           4     Showing off   \n105      Farro, cauliflower & asparagus salad       4 - 6  Not too tricky   \n\n     Calories   Time                                                URL  \\\n1023  unknown  00:30  https://www.madewithlau.com/recipes/ginger-fri...   \n115     220.0  00:25  https://www.jamieoliver.com/recipes/vegetables...   \n922   unknown  00:45  https://www.madewithlau.com/recipes/sliced-fis...   \n89      640.0  00:45  https://www.jamieoliver.com/recipes/chicken-re...   \n105     566.0  00:40  https://www.jamieoliver.com/recipes/vegetables...   \n\n      Rec_score  \n1023   0.608761  \n115    0.379857  \n922    0.358017  \n89     0.350187  \n105    0.321246  ",
      "text/html": "<div>\n<style scoped>\n    .dataframe tbody tr th:only-of-type {\n        vertical-align: middle;\n    }\n\n    .dataframe tbody tr th {\n        vertical-align: top;\n    }\n\n    .dataframe thead th {\n        text-align: right;\n    }\n</style>\n<table border=\"1\" class=\"dataframe\">\n  <thead>\n    <tr style=\"text-align: right;\">\n      <th></th>\n      <th>Title</th>\n      <th>Servings</th>\n      <th>Difficulty</th>\n      <th>Calories</th>\n      <th>Time</th>\n      <th>URL</th>\n      <th>Rec_score</th>\n    </tr>\n  </thead>\n  <tbody>\n    <tr>\n      <th>1023</th>\n      <td>Ginger Fried Rice (薑炒飯)</td>\n      <td>4 servings</td>\n      <td>unknown</td>\n      <td>unknown</td>\n      <td>00:30</td>\n      <td>https://www.madewithlau.com/recipes/ginger-fri...</td>\n      <td>0.608761</td>\n    </tr>\n    <tr>\n      <th>115</th>\n      <td>Potato rostis with beetroot horseradish</td>\n      <td>4 rostis</td>\n      <td>Super easy</td>\n      <td>220.0</td>\n      <td>00:25</td>\n      <td>https://www.jamieoliver.com/recipes/vegetables...</td>\n      <td>0.379857</td>\n    </tr>\n    <tr>\n      <th>922</th>\n      <td>Sliced Fish Congee (魚片粥)</td>\n      <td>4 servings</td>\n      <td>unknown</td>\n      <td>unknown</td>\n      <td>00:45</td>\n      <td>https://www.madewithlau.com/recipes/sliced-fis...</td>\n      <td>0.358017</td>\n    </tr>\n    <tr>\n      <th>89</th>\n      <td>Mustard chicken Milanese</td>\n      <td>4</td>\n      <td>Showing off</td>\n      <td>640.0</td>\n      <td>00:45</td>\n      <td>https://www.jamieoliver.com/recipes/chicken-re...</td>\n      <td>0.350187</td>\n    </tr>\n    <tr>\n      <th>105</th>\n      <td>Farro, cauliflower &amp; asparagus salad</td>\n      <td>4 - 6</td>\n      <td>Not too tricky</td>\n      <td>566.0</td>\n      <td>00:40</td>\n      <td>https://www.jamieoliver.com/recipes/vegetables...</td>\n      <td>0.321246</td>\n    </tr>\n  </tbody>\n</table>\n</div>"
     },
     "execution_count": 35,
     "metadata": {},
     "output_type": "execute_result"
    }
   ],
   "source": [
    "recipe_recommender()"
   ],
   "metadata": {
    "collapsed": false,
    "ExecuteTime": {
     "end_time": "2023-08-31T11:40:33.230182800Z",
     "start_time": "2023-08-31T11:40:21.421316800Z"
    }
   }
  }
 ],
 "metadata": {
  "kernelspec": {
   "display_name": "Python 3",
   "language": "python",
   "name": "python3"
  },
  "language_info": {
   "codemirror_mode": {
    "name": "ipython",
    "version": 2
   },
   "file_extension": ".py",
   "mimetype": "text/x-python",
   "name": "python",
   "nbconvert_exporter": "python",
   "pygments_lexer": "ipython2",
   "version": "2.7.6"
  }
 },
 "nbformat": 4,
 "nbformat_minor": 0
}
