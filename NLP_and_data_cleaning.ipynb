{
 "cells": [
  {
   "cell_type": "code",
   "execution_count": 59,
   "metadata": {
    "collapsed": true,
    "ExecuteTime": {
     "end_time": "2023-08-31T10:42:03.886731Z",
     "start_time": "2023-08-31T10:42:03.249436900Z"
    }
   },
   "outputs": [],
   "source": [
    "import pandas as pd\n",
    "import re\n",
    "from datetime import datetime, timedelta\n",
    "import nltk\n",
    "import unidecode\n",
    "import string\n",
    "import ast\n",
    "from nltk.stem import WordNetLemmatizer"
   ]
  },
  {
   "cell_type": "code",
   "execution_count": 60,
   "outputs": [],
   "source": [
    "# Read in .csv files of recipes\n",
    "jamie_df = pd.read_csv('Jamie_Oliver_Recipes.csv')\n",
    "lau_df = pd.read_csv('Lau_Recipes.csv')"
   ],
   "metadata": {
    "collapsed": false,
    "ExecuteTime": {
     "end_time": "2023-08-31T10:42:04.551952800Z",
     "start_time": "2023-08-31T10:42:03.264396Z"
    }
   }
  },
  {
   "cell_type": "code",
   "execution_count": 61,
   "outputs": [
    {
     "data": {
      "text/plain": "   Unnamed: 0                   Title  \\\n0           0      Asparagus stir-fry   \n1           1  Sweet potato fishcakes   \n2           2     Spring chicken stew   \n3           3         Chicken goujons   \n4           4   Sweet & sour stir-fry   \n\n                                         Ingredients Servings      Difficulty  \\\n0  ['350 g firm tofu', '2 teaspoons groundnut oil...        4  Not too tricky   \n1  ['500 g potatoes', '500 g sweet potatoes', '2 ...        4  Not too tricky   \n2  ['olive oil', '2 rashers of higher-welfare smo...        4  Not too tricky   \n3  ['6 wholemeal pittas', '4 x 120 g free-range s...        4  Not too tricky   \n4  ['100 g fine rice noodles', '1 x 227 g tin of ...        2      Super easy   \n\n   Calories               Time  \\\n0       248                NaN   \n1       423  1 hour 10 minutes   \n2       549  1 hour 10 minutes   \n3       520         23 minutes   \n4       492         21 minutes   \n\n                                                 URL  \n0  https://www.jamieoliver.com/recipes/vegetable-...  \n1  https://www.jamieoliver.com/recipes/fish-recip...  \n2  https://www.jamieoliver.com/recipes/chicken-re...  \n3  https://www.jamieoliver.com/recipes/chicken-re...  \n4  https://www.jamieoliver.com/recipes/vegetable-...  ",
      "text/html": "<div>\n<style scoped>\n    .dataframe tbody tr th:only-of-type {\n        vertical-align: middle;\n    }\n\n    .dataframe tbody tr th {\n        vertical-align: top;\n    }\n\n    .dataframe thead th {\n        text-align: right;\n    }\n</style>\n<table border=\"1\" class=\"dataframe\">\n  <thead>\n    <tr style=\"text-align: right;\">\n      <th></th>\n      <th>Unnamed: 0</th>\n      <th>Title</th>\n      <th>Ingredients</th>\n      <th>Servings</th>\n      <th>Difficulty</th>\n      <th>Calories</th>\n      <th>Time</th>\n      <th>URL</th>\n    </tr>\n  </thead>\n  <tbody>\n    <tr>\n      <th>0</th>\n      <td>0</td>\n      <td>Asparagus stir-fry</td>\n      <td>['350 g firm tofu', '2 teaspoons groundnut oil...</td>\n      <td>4</td>\n      <td>Not too tricky</td>\n      <td>248</td>\n      <td>NaN</td>\n      <td>https://www.jamieoliver.com/recipes/vegetable-...</td>\n    </tr>\n    <tr>\n      <th>1</th>\n      <td>1</td>\n      <td>Sweet potato fishcakes</td>\n      <td>['500 g potatoes', '500 g sweet potatoes', '2 ...</td>\n      <td>4</td>\n      <td>Not too tricky</td>\n      <td>423</td>\n      <td>1 hour 10 minutes</td>\n      <td>https://www.jamieoliver.com/recipes/fish-recip...</td>\n    </tr>\n    <tr>\n      <th>2</th>\n      <td>2</td>\n      <td>Spring chicken stew</td>\n      <td>['olive oil', '2 rashers of higher-welfare smo...</td>\n      <td>4</td>\n      <td>Not too tricky</td>\n      <td>549</td>\n      <td>1 hour 10 minutes</td>\n      <td>https://www.jamieoliver.com/recipes/chicken-re...</td>\n    </tr>\n    <tr>\n      <th>3</th>\n      <td>3</td>\n      <td>Chicken goujons</td>\n      <td>['6 wholemeal pittas', '4 x 120 g free-range s...</td>\n      <td>4</td>\n      <td>Not too tricky</td>\n      <td>520</td>\n      <td>23 minutes</td>\n      <td>https://www.jamieoliver.com/recipes/chicken-re...</td>\n    </tr>\n    <tr>\n      <th>4</th>\n      <td>4</td>\n      <td>Sweet &amp; sour stir-fry</td>\n      <td>['100 g fine rice noodles', '1 x 227 g tin of ...</td>\n      <td>2</td>\n      <td>Super easy</td>\n      <td>492</td>\n      <td>21 minutes</td>\n      <td>https://www.jamieoliver.com/recipes/vegetable-...</td>\n    </tr>\n  </tbody>\n</table>\n</div>"
     },
     "execution_count": 61,
     "metadata": {},
     "output_type": "execute_result"
    }
   ],
   "source": [
    "jamie_df.head()"
   ],
   "metadata": {
    "collapsed": false,
    "ExecuteTime": {
     "end_time": "2023-08-31T10:42:04.865117900Z",
     "start_time": "2023-08-31T10:42:03.338200100Z"
    }
   }
  },
  {
   "cell_type": "code",
   "execution_count": 62,
   "outputs": [
    {
     "data": {
      "text/plain": "   Unnamed: 0                                           Title  \\\n0           0                                  Lo Mein (鷄肉撈麵)   \n1           1                             Egg Drop Soup (蛋花湯)   \n2           2                                Pipa Tofu (琵琶豆腐)   \n3           3  Chow Mein: A Chinese Chef's Masterclass (鷄肉炒麵)   \n4           4                             Lemon Chicken (檸檬雞)   \n\n                                         Ingredients    Servings Prep_time  \\\n0  ['1 oz dried shiitake mushroom', '2 oz seafood...  4 servings    25 min   \n1  ['5 oz shrimp (26/30 size)', '0.25 tsp white p...  4 servings    20 min   \n2  ['1 lb medium firm tofu', '4 oz shrimp', '1 oz...  4 servings    35 min   \n3  ['18 oz thick chow mein noodles', '2 oz red on...  4 servings    20 min   \n4  ['14 oz chicken breast', '3 whole lemon', '1 d...  4 servings    35 min   \n\n  Total_time                                                URL  \n0     55 min    https://www.madewithlau.com/recipes/lo-mein-101  \n1     10 min  https://www.madewithlau.com/recipes/egg-drop-soup  \n2     45 min      https://www.madewithlau.com/recipes/pipa-tofu  \n3     35 min      https://www.madewithlau.com/recipes/chow-mein  \n4     50 min  https://www.madewithlau.com/recipes/lemon-chicken  ",
      "text/html": "<div>\n<style scoped>\n    .dataframe tbody tr th:only-of-type {\n        vertical-align: middle;\n    }\n\n    .dataframe tbody tr th {\n        vertical-align: top;\n    }\n\n    .dataframe thead th {\n        text-align: right;\n    }\n</style>\n<table border=\"1\" class=\"dataframe\">\n  <thead>\n    <tr style=\"text-align: right;\">\n      <th></th>\n      <th>Unnamed: 0</th>\n      <th>Title</th>\n      <th>Ingredients</th>\n      <th>Servings</th>\n      <th>Prep_time</th>\n      <th>Total_time</th>\n      <th>URL</th>\n    </tr>\n  </thead>\n  <tbody>\n    <tr>\n      <th>0</th>\n      <td>0</td>\n      <td>Lo Mein (鷄肉撈麵)</td>\n      <td>['1 oz dried shiitake mushroom', '2 oz seafood...</td>\n      <td>4 servings</td>\n      <td>25 min</td>\n      <td>55 min</td>\n      <td>https://www.madewithlau.com/recipes/lo-mein-101</td>\n    </tr>\n    <tr>\n      <th>1</th>\n      <td>1</td>\n      <td>Egg Drop Soup (蛋花湯)</td>\n      <td>['5 oz shrimp (26/30 size)', '0.25 tsp white p...</td>\n      <td>4 servings</td>\n      <td>20 min</td>\n      <td>10 min</td>\n      <td>https://www.madewithlau.com/recipes/egg-drop-soup</td>\n    </tr>\n    <tr>\n      <th>2</th>\n      <td>2</td>\n      <td>Pipa Tofu (琵琶豆腐)</td>\n      <td>['1 lb medium firm tofu', '4 oz shrimp', '1 oz...</td>\n      <td>4 servings</td>\n      <td>35 min</td>\n      <td>45 min</td>\n      <td>https://www.madewithlau.com/recipes/pipa-tofu</td>\n    </tr>\n    <tr>\n      <th>3</th>\n      <td>3</td>\n      <td>Chow Mein: A Chinese Chef's Masterclass (鷄肉炒麵)</td>\n      <td>['18 oz thick chow mein noodles', '2 oz red on...</td>\n      <td>4 servings</td>\n      <td>20 min</td>\n      <td>35 min</td>\n      <td>https://www.madewithlau.com/recipes/chow-mein</td>\n    </tr>\n    <tr>\n      <th>4</th>\n      <td>4</td>\n      <td>Lemon Chicken (檸檬雞)</td>\n      <td>['14 oz chicken breast', '3 whole lemon', '1 d...</td>\n      <td>4 servings</td>\n      <td>35 min</td>\n      <td>50 min</td>\n      <td>https://www.madewithlau.com/recipes/lemon-chicken</td>\n    </tr>\n  </tbody>\n</table>\n</div>"
     },
     "execution_count": 62,
     "metadata": {},
     "output_type": "execute_result"
    }
   ],
   "source": [
    "lau_df.head()"
   ],
   "metadata": {
    "collapsed": false,
    "ExecuteTime": {
     "end_time": "2023-08-31T10:42:04.885063400Z",
     "start_time": "2023-08-31T10:42:03.377094300Z"
    }
   }
  },
  {
   "cell_type": "markdown",
   "source": [
    "I want to combine the 2 dataframes together to clean them at the same time, but first I need to decide on whether to use \"Prep_time\" and/or \"Total_time\" from the Lau dataframe."
   ],
   "metadata": {
    "collapsed": false
   }
  },
  {
   "cell_type": "code",
   "execution_count": 63,
   "outputs": [],
   "source": [
    "# Define a function that converts every time value into minutes integers\n",
    "def time_parser(time_str):\n",
    "    hours_match = re.search(r\"(\\d+)\\s*hour\", time_str) # RegEx to capture hours\n",
    "    minutes_match = re.search(r\"(\\d+)\\s*min\", time_str) # RegEx to capture minutes\n",
    "\n",
    "    hours = int(hours_match.group(1)) if hours_match else 0\n",
    "    minutes = int(minutes_match.group(1)) if minutes_match else 0\n",
    "\n",
    "    time_delta = timedelta(hours=hours, minutes=minutes) # Convert to timedelta\n",
    "    base_date = datetime(1900, 1, 1) # Need a 'default date' to convert to strftime later\n",
    "    return base_date + time_delta"
   ],
   "metadata": {
    "collapsed": false,
    "ExecuteTime": {
     "end_time": "2023-08-31T10:42:04.918970800Z",
     "start_time": "2023-08-31T10:42:03.417985400Z"
    }
   }
  },
  {
   "cell_type": "code",
   "execution_count": 64,
   "outputs": [],
   "source": [
    "lau_df_copy = lau_df.copy() # Make copy of lau df\n",
    "\n",
    "# Parse both times\n",
    "lau_df_copy['Prep_time'] = lau_df_copy['Prep_time'].apply(time_parser)\n",
    "lau_df_copy['Total_time'] = lau_df_copy['Total_time'].apply(time_parser)"
   ],
   "metadata": {
    "collapsed": false,
    "ExecuteTime": {
     "end_time": "2023-08-31T10:42:04.919969600Z",
     "start_time": "2023-08-31T10:42:03.448902700Z"
    }
   }
  },
  {
   "cell_type": "code",
   "execution_count": 65,
   "outputs": [],
   "source": [
    "# Convert to strftime\n",
    "lau_df_copy['Total_time'] = lau_df_copy['Total_time'].dt.strftime('%H:%M')\n",
    "lau_df_copy['Prep_time'] = lau_df_copy['Prep_time'].dt.strftime('%H:%M')"
   ],
   "metadata": {
    "collapsed": false,
    "ExecuteTime": {
     "end_time": "2023-08-31T10:42:05.245098800Z",
     "start_time": "2023-08-31T10:42:03.480817100Z"
    }
   }
  },
  {
   "cell_type": "markdown",
   "source": [
    "I noticed one of the records had a higher prep time than total time, which doesn't make sense. I assume the website made a mistake and switched the 2. I will change the total_time to the correct time."
   ],
   "metadata": {
    "collapsed": false
   }
  },
  {
   "cell_type": "code",
   "execution_count": 66,
   "outputs": [
    {
     "data": {
      "text/plain": "   Unnamed: 0                Title  \\\n1           1  Egg Drop Soup (蛋花湯)   \n\n                                         Ingredients    Servings Prep_time  \\\n1  ['5 oz shrimp (26/30 size)', '0.25 tsp white p...  4 servings     00:20   \n\n  Total_time                                                URL  \n1      00:10  https://www.madewithlau.com/recipes/egg-drop-soup  ",
      "text/html": "<div>\n<style scoped>\n    .dataframe tbody tr th:only-of-type {\n        vertical-align: middle;\n    }\n\n    .dataframe tbody tr th {\n        vertical-align: top;\n    }\n\n    .dataframe thead th {\n        text-align: right;\n    }\n</style>\n<table border=\"1\" class=\"dataframe\">\n  <thead>\n    <tr style=\"text-align: right;\">\n      <th></th>\n      <th>Unnamed: 0</th>\n      <th>Title</th>\n      <th>Ingredients</th>\n      <th>Servings</th>\n      <th>Prep_time</th>\n      <th>Total_time</th>\n      <th>URL</th>\n    </tr>\n  </thead>\n  <tbody>\n    <tr>\n      <th>1</th>\n      <td>1</td>\n      <td>Egg Drop Soup (蛋花湯)</td>\n      <td>['5 oz shrimp (26/30 size)', '0.25 tsp white p...</td>\n      <td>4 servings</td>\n      <td>00:20</td>\n      <td>00:10</td>\n      <td>https://www.madewithlau.com/recipes/egg-drop-soup</td>\n    </tr>\n  </tbody>\n</table>\n</div>"
     },
     "execution_count": 66,
     "metadata": {},
     "output_type": "execute_result"
    }
   ],
   "source": [
    "lau_df_copy[lau_df_copy['Prep_time']>lau_df_copy['Total_time']]"
   ],
   "metadata": {
    "collapsed": false,
    "ExecuteTime": {
     "end_time": "2023-08-31T10:42:05.418634600Z",
     "start_time": "2023-08-31T10:42:03.522705900Z"
    }
   }
  },
  {
   "cell_type": "code",
   "execution_count": 67,
   "outputs": [
    {
     "data": {
      "text/plain": "     Unnamed: 0                                           Title  \\\n0             0                                  Lo Mein (鷄肉撈麵)   \n1             1                             Egg Drop Soup (蛋花湯)   \n2             2                                Pipa Tofu (琵琶豆腐)   \n3             3  Chow Mein: A Chinese Chef's Masterclass (鷄肉炒麵)   \n4             4                             Lemon Chicken (檸檬雞)   \n..          ...                                             ...   \n120         120                               Steamed Eggs (蒸蛋)   \n121         121                         Ginger Fried Rice (薑炒飯)   \n122         122                 Mapo Tofu With Chicken (雞肉麻婆豆腐)   \n123         123                 Rainbow Chicken Stir Fry (七彩炒雞)   \n124         124                       Chicken Corn Soup (雞肉玉米湯)   \n\n                                           Ingredients    Servings Prep_time  \\\n0    ['1 oz dried shiitake mushroom', '2 oz seafood...  4 servings     00:25   \n1    ['5 oz shrimp (26/30 size)', '0.25 tsp white p...  4 servings     00:20   \n2    ['1 lb medium firm tofu', '4 oz shrimp', '1 oz...  4 servings     00:35   \n3    ['18 oz thick chow mein noodles', '2 oz red on...  4 servings     00:20   \n4    ['14 oz chicken breast', '3 whole lemon', '1 d...  4 servings     00:35   \n..                                                 ...         ...       ...   \n120  ['4 egg', '2 cup warm water', '2 stalk scallio...  4 servings     00:05   \n121  ['2 oz ginger', '3 oz chicken', '3 egg', '1 ts...  4 servings     00:15   \n122  ['1 lb tofu (any level of firmness is fine)', ...  4 servings     00:10   \n123  ['10 oz chicken breast', '0.50 red bell pepper...  4 servings     00:25   \n124  ['3 oz chicken breast', '4 cup water, for boil...  4 servings     00:15   \n\n    Total_time                                                URL  \n0        00:55    https://www.madewithlau.com/recipes/lo-mein-101  \n1        00:20  https://www.madewithlau.com/recipes/egg-drop-soup  \n2        00:45      https://www.madewithlau.com/recipes/pipa-tofu  \n3        00:35      https://www.madewithlau.com/recipes/chow-mein  \n4        00:50  https://www.madewithlau.com/recipes/lemon-chicken  \n..         ...                                                ...  \n120      00:15    https://www.madewithlau.com/recipes/steamed-egg  \n121      00:30  https://www.madewithlau.com/recipes/ginger-fri...  \n122      00:20  https://www.madewithlau.com/recipes/mapo-tofu-...  \n123      00:35  https://www.madewithlau.com/recipes/rainbow-ch...  \n124      00:25  https://www.madewithlau.com/recipes/chicken-co...  \n\n[125 rows x 7 columns]",
      "text/html": "<div>\n<style scoped>\n    .dataframe tbody tr th:only-of-type {\n        vertical-align: middle;\n    }\n\n    .dataframe tbody tr th {\n        vertical-align: top;\n    }\n\n    .dataframe thead th {\n        text-align: right;\n    }\n</style>\n<table border=\"1\" class=\"dataframe\">\n  <thead>\n    <tr style=\"text-align: right;\">\n      <th></th>\n      <th>Unnamed: 0</th>\n      <th>Title</th>\n      <th>Ingredients</th>\n      <th>Servings</th>\n      <th>Prep_time</th>\n      <th>Total_time</th>\n      <th>URL</th>\n    </tr>\n  </thead>\n  <tbody>\n    <tr>\n      <th>0</th>\n      <td>0</td>\n      <td>Lo Mein (鷄肉撈麵)</td>\n      <td>['1 oz dried shiitake mushroom', '2 oz seafood...</td>\n      <td>4 servings</td>\n      <td>00:25</td>\n      <td>00:55</td>\n      <td>https://www.madewithlau.com/recipes/lo-mein-101</td>\n    </tr>\n    <tr>\n      <th>1</th>\n      <td>1</td>\n      <td>Egg Drop Soup (蛋花湯)</td>\n      <td>['5 oz shrimp (26/30 size)', '0.25 tsp white p...</td>\n      <td>4 servings</td>\n      <td>00:20</td>\n      <td>00:20</td>\n      <td>https://www.madewithlau.com/recipes/egg-drop-soup</td>\n    </tr>\n    <tr>\n      <th>2</th>\n      <td>2</td>\n      <td>Pipa Tofu (琵琶豆腐)</td>\n      <td>['1 lb medium firm tofu', '4 oz shrimp', '1 oz...</td>\n      <td>4 servings</td>\n      <td>00:35</td>\n      <td>00:45</td>\n      <td>https://www.madewithlau.com/recipes/pipa-tofu</td>\n    </tr>\n    <tr>\n      <th>3</th>\n      <td>3</td>\n      <td>Chow Mein: A Chinese Chef's Masterclass (鷄肉炒麵)</td>\n      <td>['18 oz thick chow mein noodles', '2 oz red on...</td>\n      <td>4 servings</td>\n      <td>00:20</td>\n      <td>00:35</td>\n      <td>https://www.madewithlau.com/recipes/chow-mein</td>\n    </tr>\n    <tr>\n      <th>4</th>\n      <td>4</td>\n      <td>Lemon Chicken (檸檬雞)</td>\n      <td>['14 oz chicken breast', '3 whole lemon', '1 d...</td>\n      <td>4 servings</td>\n      <td>00:35</td>\n      <td>00:50</td>\n      <td>https://www.madewithlau.com/recipes/lemon-chicken</td>\n    </tr>\n    <tr>\n      <th>...</th>\n      <td>...</td>\n      <td>...</td>\n      <td>...</td>\n      <td>...</td>\n      <td>...</td>\n      <td>...</td>\n      <td>...</td>\n    </tr>\n    <tr>\n      <th>120</th>\n      <td>120</td>\n      <td>Steamed Eggs (蒸蛋)</td>\n      <td>['4 egg', '2 cup warm water', '2 stalk scallio...</td>\n      <td>4 servings</td>\n      <td>00:05</td>\n      <td>00:15</td>\n      <td>https://www.madewithlau.com/recipes/steamed-egg</td>\n    </tr>\n    <tr>\n      <th>121</th>\n      <td>121</td>\n      <td>Ginger Fried Rice (薑炒飯)</td>\n      <td>['2 oz ginger', '3 oz chicken', '3 egg', '1 ts...</td>\n      <td>4 servings</td>\n      <td>00:15</td>\n      <td>00:30</td>\n      <td>https://www.madewithlau.com/recipes/ginger-fri...</td>\n    </tr>\n    <tr>\n      <th>122</th>\n      <td>122</td>\n      <td>Mapo Tofu With Chicken (雞肉麻婆豆腐)</td>\n      <td>['1 lb tofu (any level of firmness is fine)', ...</td>\n      <td>4 servings</td>\n      <td>00:10</td>\n      <td>00:20</td>\n      <td>https://www.madewithlau.com/recipes/mapo-tofu-...</td>\n    </tr>\n    <tr>\n      <th>123</th>\n      <td>123</td>\n      <td>Rainbow Chicken Stir Fry (七彩炒雞)</td>\n      <td>['10 oz chicken breast', '0.50 red bell pepper...</td>\n      <td>4 servings</td>\n      <td>00:25</td>\n      <td>00:35</td>\n      <td>https://www.madewithlau.com/recipes/rainbow-ch...</td>\n    </tr>\n    <tr>\n      <th>124</th>\n      <td>124</td>\n      <td>Chicken Corn Soup (雞肉玉米湯)</td>\n      <td>['3 oz chicken breast', '4 cup water, for boil...</td>\n      <td>4 servings</td>\n      <td>00:15</td>\n      <td>00:25</td>\n      <td>https://www.madewithlau.com/recipes/chicken-co...</td>\n    </tr>\n  </tbody>\n</table>\n<p>125 rows × 7 columns</p>\n</div>"
     },
     "execution_count": 67,
     "metadata": {},
     "output_type": "execute_result"
    }
   ],
   "source": [
    "wrong = lau_df_copy['Prep_time'] > lau_df_copy['Total_time']\n",
    "lau_df_copy.loc[wrong, 'Total_time'] = lau_df_copy['Prep_time']\n",
    "lau_df_copy"
   ],
   "metadata": {
    "collapsed": false,
    "ExecuteTime": {
     "end_time": "2023-08-31T10:42:05.418634600Z",
     "start_time": "2023-08-31T10:42:03.603490100Z"
    }
   }
  },
  {
   "cell_type": "code",
   "execution_count": 68,
   "outputs": [],
   "source": [
    "lau_df_copy.drop(columns = 'Prep_time', inplace=True) # Take out 'Prep_time'"
   ],
   "metadata": {
    "collapsed": false,
    "ExecuteTime": {
     "end_time": "2023-08-31T10:42:05.420629500Z",
     "start_time": "2023-08-31T10:42:03.682278100Z"
    }
   }
  },
  {
   "cell_type": "code",
   "execution_count": 69,
   "outputs": [],
   "source": [
    "lau_df_copy.rename(columns = {'Total_time': 'Time'}, inplace=True) # Just use 'Total_time' and rename it to 'Time'"
   ],
   "metadata": {
    "collapsed": false,
    "ExecuteTime": {
     "end_time": "2023-08-31T10:42:05.420629500Z",
     "start_time": "2023-08-31T10:42:03.745111900Z"
    }
   }
  },
  {
   "cell_type": "code",
   "execution_count": 70,
   "outputs": [
    {
     "data": {
      "text/plain": "   Unnamed: 0                                           Title  \\\n0           0                                  Lo Mein (鷄肉撈麵)   \n1           1                             Egg Drop Soup (蛋花湯)   \n2           2                                Pipa Tofu (琵琶豆腐)   \n3           3  Chow Mein: A Chinese Chef's Masterclass (鷄肉炒麵)   \n4           4                             Lemon Chicken (檸檬雞)   \n\n                                         Ingredients    Servings   Time  \\\n0  ['1 oz dried shiitake mushroom', '2 oz seafood...  4 servings  00:55   \n1  ['5 oz shrimp (26/30 size)', '0.25 tsp white p...  4 servings  00:20   \n2  ['1 lb medium firm tofu', '4 oz shrimp', '1 oz...  4 servings  00:45   \n3  ['18 oz thick chow mein noodles', '2 oz red on...  4 servings  00:35   \n4  ['14 oz chicken breast', '3 whole lemon', '1 d...  4 servings  00:50   \n\n                                                 URL  \n0    https://www.madewithlau.com/recipes/lo-mein-101  \n1  https://www.madewithlau.com/recipes/egg-drop-soup  \n2      https://www.madewithlau.com/recipes/pipa-tofu  \n3      https://www.madewithlau.com/recipes/chow-mein  \n4  https://www.madewithlau.com/recipes/lemon-chicken  ",
      "text/html": "<div>\n<style scoped>\n    .dataframe tbody tr th:only-of-type {\n        vertical-align: middle;\n    }\n\n    .dataframe tbody tr th {\n        vertical-align: top;\n    }\n\n    .dataframe thead th {\n        text-align: right;\n    }\n</style>\n<table border=\"1\" class=\"dataframe\">\n  <thead>\n    <tr style=\"text-align: right;\">\n      <th></th>\n      <th>Unnamed: 0</th>\n      <th>Title</th>\n      <th>Ingredients</th>\n      <th>Servings</th>\n      <th>Time</th>\n      <th>URL</th>\n    </tr>\n  </thead>\n  <tbody>\n    <tr>\n      <th>0</th>\n      <td>0</td>\n      <td>Lo Mein (鷄肉撈麵)</td>\n      <td>['1 oz dried shiitake mushroom', '2 oz seafood...</td>\n      <td>4 servings</td>\n      <td>00:55</td>\n      <td>https://www.madewithlau.com/recipes/lo-mein-101</td>\n    </tr>\n    <tr>\n      <th>1</th>\n      <td>1</td>\n      <td>Egg Drop Soup (蛋花湯)</td>\n      <td>['5 oz shrimp (26/30 size)', '0.25 tsp white p...</td>\n      <td>4 servings</td>\n      <td>00:20</td>\n      <td>https://www.madewithlau.com/recipes/egg-drop-soup</td>\n    </tr>\n    <tr>\n      <th>2</th>\n      <td>2</td>\n      <td>Pipa Tofu (琵琶豆腐)</td>\n      <td>['1 lb medium firm tofu', '4 oz shrimp', '1 oz...</td>\n      <td>4 servings</td>\n      <td>00:45</td>\n      <td>https://www.madewithlau.com/recipes/pipa-tofu</td>\n    </tr>\n    <tr>\n      <th>3</th>\n      <td>3</td>\n      <td>Chow Mein: A Chinese Chef's Masterclass (鷄肉炒麵)</td>\n      <td>['18 oz thick chow mein noodles', '2 oz red on...</td>\n      <td>4 servings</td>\n      <td>00:35</td>\n      <td>https://www.madewithlau.com/recipes/chow-mein</td>\n    </tr>\n    <tr>\n      <th>4</th>\n      <td>4</td>\n      <td>Lemon Chicken (檸檬雞)</td>\n      <td>['14 oz chicken breast', '3 whole lemon', '1 d...</td>\n      <td>4 servings</td>\n      <td>00:50</td>\n      <td>https://www.madewithlau.com/recipes/lemon-chicken</td>\n    </tr>\n  </tbody>\n</table>\n</div>"
     },
     "execution_count": 70,
     "metadata": {},
     "output_type": "execute_result"
    }
   ],
   "source": [
    "lau_df_copy.head()"
   ],
   "metadata": {
    "collapsed": false,
    "ExecuteTime": {
     "end_time": "2023-08-31T10:42:05.420629500Z",
     "start_time": "2023-08-31T10:42:03.799964300Z"
    }
   }
  },
  {
   "cell_type": "markdown",
   "source": [
    "Clean jamie_df:"
   ],
   "metadata": {
    "collapsed": false
   }
  },
  {
   "cell_type": "code",
   "execution_count": 71,
   "outputs": [],
   "source": [
    "jamie_df_copy = jamie_df.copy() # Make a copy of jamie_df"
   ],
   "metadata": {
    "collapsed": false,
    "ExecuteTime": {
     "end_time": "2023-08-31T10:42:05.421629200Z",
     "start_time": "2023-08-31T10:42:03.847836800Z"
    }
   }
  },
  {
   "cell_type": "code",
   "execution_count": 72,
   "outputs": [
    {
     "data": {
      "text/plain": "   Unnamed: 0                   Title  \\\n0           0      Asparagus stir-fry   \n1           1  Sweet potato fishcakes   \n2           2     Spring chicken stew   \n3           3         Chicken goujons   \n4           4   Sweet & sour stir-fry   \n\n                                         Ingredients Servings      Difficulty  \\\n0  ['350 g firm tofu', '2 teaspoons groundnut oil...        4  Not too tricky   \n1  ['500 g potatoes', '500 g sweet potatoes', '2 ...        4  Not too tricky   \n2  ['olive oil', '2 rashers of higher-welfare smo...        4  Not too tricky   \n3  ['6 wholemeal pittas', '4 x 120 g free-range s...        4  Not too tricky   \n4  ['100 g fine rice noodles', '1 x 227 g tin of ...        2      Super easy   \n\n   Calories               Time  \\\n0       248                NaN   \n1       423  1 hour 10 minutes   \n2       549  1 hour 10 minutes   \n3       520         23 minutes   \n4       492         21 minutes   \n\n                                                 URL  \n0  https://www.jamieoliver.com/recipes/vegetable-...  \n1  https://www.jamieoliver.com/recipes/fish-recip...  \n2  https://www.jamieoliver.com/recipes/chicken-re...  \n3  https://www.jamieoliver.com/recipes/chicken-re...  \n4  https://www.jamieoliver.com/recipes/vegetable-...  ",
      "text/html": "<div>\n<style scoped>\n    .dataframe tbody tr th:only-of-type {\n        vertical-align: middle;\n    }\n\n    .dataframe tbody tr th {\n        vertical-align: top;\n    }\n\n    .dataframe thead th {\n        text-align: right;\n    }\n</style>\n<table border=\"1\" class=\"dataframe\">\n  <thead>\n    <tr style=\"text-align: right;\">\n      <th></th>\n      <th>Unnamed: 0</th>\n      <th>Title</th>\n      <th>Ingredients</th>\n      <th>Servings</th>\n      <th>Difficulty</th>\n      <th>Calories</th>\n      <th>Time</th>\n      <th>URL</th>\n    </tr>\n  </thead>\n  <tbody>\n    <tr>\n      <th>0</th>\n      <td>0</td>\n      <td>Asparagus stir-fry</td>\n      <td>['350 g firm tofu', '2 teaspoons groundnut oil...</td>\n      <td>4</td>\n      <td>Not too tricky</td>\n      <td>248</td>\n      <td>NaN</td>\n      <td>https://www.jamieoliver.com/recipes/vegetable-...</td>\n    </tr>\n    <tr>\n      <th>1</th>\n      <td>1</td>\n      <td>Sweet potato fishcakes</td>\n      <td>['500 g potatoes', '500 g sweet potatoes', '2 ...</td>\n      <td>4</td>\n      <td>Not too tricky</td>\n      <td>423</td>\n      <td>1 hour 10 minutes</td>\n      <td>https://www.jamieoliver.com/recipes/fish-recip...</td>\n    </tr>\n    <tr>\n      <th>2</th>\n      <td>2</td>\n      <td>Spring chicken stew</td>\n      <td>['olive oil', '2 rashers of higher-welfare smo...</td>\n      <td>4</td>\n      <td>Not too tricky</td>\n      <td>549</td>\n      <td>1 hour 10 minutes</td>\n      <td>https://www.jamieoliver.com/recipes/chicken-re...</td>\n    </tr>\n    <tr>\n      <th>3</th>\n      <td>3</td>\n      <td>Chicken goujons</td>\n      <td>['6 wholemeal pittas', '4 x 120 g free-range s...</td>\n      <td>4</td>\n      <td>Not too tricky</td>\n      <td>520</td>\n      <td>23 minutes</td>\n      <td>https://www.jamieoliver.com/recipes/chicken-re...</td>\n    </tr>\n    <tr>\n      <th>4</th>\n      <td>4</td>\n      <td>Sweet &amp; sour stir-fry</td>\n      <td>['100 g fine rice noodles', '1 x 227 g tin of ...</td>\n      <td>2</td>\n      <td>Super easy</td>\n      <td>492</td>\n      <td>21 minutes</td>\n      <td>https://www.jamieoliver.com/recipes/vegetable-...</td>\n    </tr>\n  </tbody>\n</table>\n</div>"
     },
     "execution_count": 72,
     "metadata": {},
     "output_type": "execute_result"
    }
   ],
   "source": [
    "jamie_df_copy.head()"
   ],
   "metadata": {
    "collapsed": false,
    "ExecuteTime": {
     "end_time": "2023-08-31T10:42:05.423627400Z",
     "start_time": "2023-08-31T10:42:03.886731Z"
    }
   }
  },
  {
   "cell_type": "code",
   "execution_count": 73,
   "outputs": [
    {
     "data": {
      "text/plain": "Unnamed: 0      0\nTitle           0\nIngredients     0\nServings        0\nDifficulty      0\nCalories        0\nTime           12\nURL             0\ndtype: int64"
     },
     "execution_count": 73,
     "metadata": {},
     "output_type": "execute_result"
    }
   ],
   "source": [
    "jamie_df_copy.isnull().sum() # Check missing data"
   ],
   "metadata": {
    "collapsed": false,
    "ExecuteTime": {
     "end_time": "2023-08-31T10:42:05.424620100Z",
     "start_time": "2023-08-31T10:42:03.913660Z"
    }
   }
  },
  {
   "cell_type": "code",
   "execution_count": 74,
   "outputs": [],
   "source": [
    "jamie_df_copy.Time.fillna('0 minutes', inplace=True) # Fill in missing data with '0 minutes' so it can be parsed"
   ],
   "metadata": {
    "collapsed": false,
    "ExecuteTime": {
     "end_time": "2023-08-31T10:42:05.445564800Z",
     "start_time": "2023-08-31T10:42:03.944577900Z"
    }
   }
  },
  {
   "cell_type": "code",
   "execution_count": 75,
   "outputs": [],
   "source": [
    "# Parse time and convert to strftime\n",
    "jamie_df_copy['Time'] = jamie_df_copy['Time'].apply(time_parser)\n",
    "jamie_df_copy['Time'] = jamie_df_copy['Time'].dt.strftime('%H:%M')"
   ],
   "metadata": {
    "collapsed": false,
    "ExecuteTime": {
     "end_time": "2023-08-31T10:42:05.446561800Z",
     "start_time": "2023-08-31T10:42:03.975495Z"
    }
   }
  },
  {
   "cell_type": "code",
   "execution_count": 76,
   "outputs": [
    {
     "data": {
      "text/plain": "   Unnamed: 0                   Title  \\\n0           0      Asparagus stir-fry   \n1           1  Sweet potato fishcakes   \n2           2     Spring chicken stew   \n3           3         Chicken goujons   \n4           4   Sweet & sour stir-fry   \n\n                                         Ingredients Servings      Difficulty  \\\n0  ['350 g firm tofu', '2 teaspoons groundnut oil...        4  Not too tricky   \n1  ['500 g potatoes', '500 g sweet potatoes', '2 ...        4  Not too tricky   \n2  ['olive oil', '2 rashers of higher-welfare smo...        4  Not too tricky   \n3  ['6 wholemeal pittas', '4 x 120 g free-range s...        4  Not too tricky   \n4  ['100 g fine rice noodles', '1 x 227 g tin of ...        2      Super easy   \n\n   Calories   Time                                                URL  \n0       248  00:00  https://www.jamieoliver.com/recipes/vegetable-...  \n1       423  01:10  https://www.jamieoliver.com/recipes/fish-recip...  \n2       549  01:10  https://www.jamieoliver.com/recipes/chicken-re...  \n3       520  00:23  https://www.jamieoliver.com/recipes/chicken-re...  \n4       492  00:21  https://www.jamieoliver.com/recipes/vegetable-...  ",
      "text/html": "<div>\n<style scoped>\n    .dataframe tbody tr th:only-of-type {\n        vertical-align: middle;\n    }\n\n    .dataframe tbody tr th {\n        vertical-align: top;\n    }\n\n    .dataframe thead th {\n        text-align: right;\n    }\n</style>\n<table border=\"1\" class=\"dataframe\">\n  <thead>\n    <tr style=\"text-align: right;\">\n      <th></th>\n      <th>Unnamed: 0</th>\n      <th>Title</th>\n      <th>Ingredients</th>\n      <th>Servings</th>\n      <th>Difficulty</th>\n      <th>Calories</th>\n      <th>Time</th>\n      <th>URL</th>\n    </tr>\n  </thead>\n  <tbody>\n    <tr>\n      <th>0</th>\n      <td>0</td>\n      <td>Asparagus stir-fry</td>\n      <td>['350 g firm tofu', '2 teaspoons groundnut oil...</td>\n      <td>4</td>\n      <td>Not too tricky</td>\n      <td>248</td>\n      <td>00:00</td>\n      <td>https://www.jamieoliver.com/recipes/vegetable-...</td>\n    </tr>\n    <tr>\n      <th>1</th>\n      <td>1</td>\n      <td>Sweet potato fishcakes</td>\n      <td>['500 g potatoes', '500 g sweet potatoes', '2 ...</td>\n      <td>4</td>\n      <td>Not too tricky</td>\n      <td>423</td>\n      <td>01:10</td>\n      <td>https://www.jamieoliver.com/recipes/fish-recip...</td>\n    </tr>\n    <tr>\n      <th>2</th>\n      <td>2</td>\n      <td>Spring chicken stew</td>\n      <td>['olive oil', '2 rashers of higher-welfare smo...</td>\n      <td>4</td>\n      <td>Not too tricky</td>\n      <td>549</td>\n      <td>01:10</td>\n      <td>https://www.jamieoliver.com/recipes/chicken-re...</td>\n    </tr>\n    <tr>\n      <th>3</th>\n      <td>3</td>\n      <td>Chicken goujons</td>\n      <td>['6 wholemeal pittas', '4 x 120 g free-range s...</td>\n      <td>4</td>\n      <td>Not too tricky</td>\n      <td>520</td>\n      <td>00:23</td>\n      <td>https://www.jamieoliver.com/recipes/chicken-re...</td>\n    </tr>\n    <tr>\n      <th>4</th>\n      <td>4</td>\n      <td>Sweet &amp; sour stir-fry</td>\n      <td>['100 g fine rice noodles', '1 x 227 g tin of ...</td>\n      <td>2</td>\n      <td>Super easy</td>\n      <td>492</td>\n      <td>00:21</td>\n      <td>https://www.jamieoliver.com/recipes/vegetable-...</td>\n    </tr>\n  </tbody>\n</table>\n</div>"
     },
     "execution_count": 76,
     "metadata": {},
     "output_type": "execute_result"
    }
   ],
   "source": [
    "jamie_df_copy.head()"
   ],
   "metadata": {
    "collapsed": false,
    "ExecuteTime": {
     "end_time": "2023-08-31T10:42:05.447558200Z",
     "start_time": "2023-08-31T10:42:04.038327200Z"
    }
   }
  },
  {
   "cell_type": "code",
   "execution_count": 77,
   "outputs": [],
   "source": [
    "combined_df = pd.concat([jamie_df_copy,lau_df_copy]) # Combine the 2 dataframes"
   ],
   "metadata": {
    "collapsed": false,
    "ExecuteTime": {
     "end_time": "2023-08-31T10:42:05.447558200Z",
     "start_time": "2023-08-31T10:42:04.090191600Z"
    }
   }
  },
  {
   "cell_type": "code",
   "execution_count": 78,
   "outputs": [],
   "source": [
    "combined_df_copy = combined_df.copy() # Make a copy"
   ],
   "metadata": {
    "collapsed": false,
    "ExecuteTime": {
     "end_time": "2023-08-31T10:42:05.447558200Z",
     "start_time": "2023-08-31T10:42:04.162992300Z"
    }
   }
  },
  {
   "cell_type": "code",
   "execution_count": 79,
   "outputs": [
    {
     "data": {
      "text/plain": "Unnamed: 0       0\nTitle            0\nIngredients      0\nServings         0\nDifficulty     125\nCalories       125\nTime             0\nURL              0\ndtype: int64"
     },
     "execution_count": 79,
     "metadata": {},
     "output_type": "execute_result"
    }
   ],
   "source": [
    "combined_df_copy.isnull().sum() # Check missing data"
   ],
   "metadata": {
    "collapsed": false,
    "ExecuteTime": {
     "end_time": "2023-08-31T10:42:05.448555700Z",
     "start_time": "2023-08-31T10:42:04.183937800Z"
    }
   }
  },
  {
   "cell_type": "markdown",
   "source": [
    "Lau recipes did not contain difficulty or calories, which is why they are missing data here. Let's fill them in with 'unknown'"
   ],
   "metadata": {
    "collapsed": false
   }
  },
  {
   "cell_type": "code",
   "execution_count": 80,
   "outputs": [],
   "source": [
    "combined_df_copy.fillna('unknown', inplace=True)\n",
    "combined_df_copy.reset_index(inplace=True, drop=True)\n",
    "combined_df_copy.drop(columns='Unnamed: 0', inplace=True)"
   ],
   "metadata": {
    "collapsed": false,
    "ExecuteTime": {
     "end_time": "2023-08-31T10:42:05.448555700Z",
     "start_time": "2023-08-31T10:42:04.230813200Z"
    }
   }
  },
  {
   "cell_type": "markdown",
   "source": [
    "NLP for Ingredients column:\n",
    "1. Get rid of puncutation and non-alphabet letters\n",
    "2. Lemmatize words to reduce them to their base form\n",
    "3. Get rid of weights and measures (found a list of standard words from Wikipedia - https://en.wikibooks.org/wiki/Cookbook:Units_of_measurement)\n",
    "4. Get rid of stop words and other most common words that aren't ingredients\n"
   ],
   "metadata": {
    "collapsed": false
   }
  },
  {
   "cell_type": "code",
   "execution_count": 81,
   "outputs": [],
   "source": [
    "nlp_df = combined_df_copy.copy()"
   ],
   "metadata": {
    "collapsed": false,
    "ExecuteTime": {
     "end_time": "2023-08-31T10:42:05.448555700Z",
     "start_time": "2023-08-31T10:42:04.307607400Z"
    }
   }
  },
  {
   "cell_type": "code",
   "execution_count": 82,
   "outputs": [],
   "source": [
    "# Function to parse ingredients\n",
    "def ingredient_parser(ingredients):\n",
    "\n",
    "    # List of measure words\n",
    "    measures = ['teaspoon', 't', 'tsp.', 'tsp', 'tablespoon', 'T', 'tbl.', 'tb', 'tbsp.','tbsp', 'fluid ounce', 'fl oz', 'gill', 'cup', 'c', 'pint', 'p', 'pt', 'fl pt', 'quart', 'q', 'qt', 'fl qt', 'gallon', 'g', 'gal', 'ml', 'milliliter', 'millilitre', 'cc', 'mL', 'l', 'liter', 'litre', 'L', 'dl', 'deciliter', 'decilitre', 'dL', 'bulb', 'level', 'heaped', 'rounded', 'whole', 'pinch', 'medium', 'slice', 'pound', 'lb', '#', 'ounce', 'oz', 'mg', 'milligram', 'milligramme', 'g', 'gram', 'gramme', 'kg', 'kilogram', 'kilogramme', 'x', 'of', 'mm', 'millimetre', 'millimeter', 'cm', 'centimeter', 'centimetre', 'm', 'meter', 'metre', 'inch', 'in', 'milli', 'centi', 'deci', 'hecto', 'kilo']\n",
    "\n",
    "    translator = str.maketrans('', '', string.punctuation) # Get rid of punctuations using maketrans\n",
    "    lemmatizer = WordNetLemmatizer() # Set lemmatizer\n",
    "    new_ingred_list = [] # Empty list for parsed ingredients\n",
    "    ingred_list = ast.literal_eval(ingredients) # Get list from ingredients column\n",
    "\n",
    "    # Loop through each ingredient\n",
    "    for i in ingred_list:\n",
    "        i.translate(translator) # Get rid of punctuation\n",
    "        items = re.split(' |-', i) # Split with where there is a space or hyphenated words\n",
    "        items = [word for word in items if word.isalpha()] # Get rid of non alphabet words\n",
    "        items = [word.lower() for word in items] # Make everything lower case\n",
    "        items = [unidecode.unidecode(word) for word in items] # Unidecode each word\n",
    "        items = [lemmatizer.lemmatize(word) for word in items] # Lemmatize each word\n",
    "        items = [word for word in items if word not in measures] # Take out measure words\n",
    "        new_ingred_list.append(' '.join(items)) # Append to list\n",
    "\n",
    "    return ' '.join(new_ingred_list) # Return new parsed ingredients"
   ],
   "metadata": {
    "collapsed": false,
    "ExecuteTime": {
     "end_time": "2023-08-31T10:42:05.448555700Z",
     "start_time": "2023-08-31T10:42:04.336529700Z"
    }
   }
  },
  {
   "cell_type": "code",
   "execution_count": 83,
   "outputs": [
    {
     "data": {
      "text/plain": "\"['1 lb fresh rice noodle', '5 oz shrimp (the amount is up to you, but 41/50 is the preferred size)', '6 oz bean sprouts', '3 oz onion', '1 tsp cornstarch', '0.50 oz green onion', '2 tbsp light soy sauce', '1 tsp chicken bouillon', 'sesame oil (to taste)', '1 tbsp vegetable oil']\""
     },
     "execution_count": 83,
     "metadata": {},
     "output_type": "execute_result"
    }
   ],
   "source": [
    "# Example before parse\n",
    "nlp_df.Ingredients[1020]"
   ],
   "metadata": {
    "collapsed": false,
    "ExecuteTime": {
     "end_time": "2023-08-31T10:42:05.449552500Z",
     "start_time": "2023-08-31T10:42:04.368444700Z"
    }
   }
  },
  {
   "cell_type": "code",
   "execution_count": 84,
   "outputs": [
    {
     "data": {
      "text/plain": "'fresh rice noodle shrimp amount is up to but is the preferred bean sprout onion cornstarch green onion light soy sauce chicken bouillon sesame oil vegetable oil'"
     },
     "execution_count": 84,
     "metadata": {},
     "output_type": "execute_result"
    }
   ],
   "source": [
    "# After parse\n",
    "ingredient_parser(nlp_df.Ingredients[1020])"
   ],
   "metadata": {
    "collapsed": false,
    "ExecuteTime": {
     "end_time": "2023-08-31T10:42:05.449552500Z",
     "start_time": "2023-08-31T10:42:04.401355900Z"
    }
   }
  },
  {
   "cell_type": "code",
   "execution_count": 85,
   "outputs": [
    {
     "data": {
      "text/plain": "                    Title                                        Ingredients  \\\n0      Asparagus stir-fry  ['350 g firm tofu', '2 teaspoons groundnut oil...   \n1  Sweet potato fishcakes  ['500 g potatoes', '500 g sweet potatoes', '2 ...   \n2     Spring chicken stew  ['olive oil', '2 rashers of higher-welfare smo...   \n3         Chicken goujons  ['6 wholemeal pittas', '4 x 120 g free-range s...   \n4   Sweet & sour stir-fry  ['100 g fine rice noodles', '1 x 227 g tin of ...   \n\n  Servings      Difficulty Calories   Time  \\\n0        4  Not too tricky    248.0  00:00   \n1        4  Not too tricky    423.0  01:10   \n2        4  Not too tricky    549.0  01:10   \n3        4  Not too tricky    520.0  00:23   \n4        2      Super easy    492.0  00:21   \n\n                                                 URL  \\\n0  https://www.jamieoliver.com/recipes/vegetable-...   \n1  https://www.jamieoliver.com/recipes/fish-recip...   \n2  https://www.jamieoliver.com/recipes/chicken-re...   \n3  https://www.jamieoliver.com/recipes/chicken-re...   \n4  https://www.jamieoliver.com/recipes/vegetable-...   \n\n                                  Ingredients_parsed  \n0  firm tofu groundnut oil sesame seed cornflour ...  \n1  potato sweet potato red pepper extra virgin ol...  \n2  olive oil rasher higher welfare smoked streaky...  \n3  wholemeal pitta free range skinless chicken br...  \n4  fine rice noodle tin pineapple chunk juice cor...  ",
      "text/html": "<div>\n<style scoped>\n    .dataframe tbody tr th:only-of-type {\n        vertical-align: middle;\n    }\n\n    .dataframe tbody tr th {\n        vertical-align: top;\n    }\n\n    .dataframe thead th {\n        text-align: right;\n    }\n</style>\n<table border=\"1\" class=\"dataframe\">\n  <thead>\n    <tr style=\"text-align: right;\">\n      <th></th>\n      <th>Title</th>\n      <th>Ingredients</th>\n      <th>Servings</th>\n      <th>Difficulty</th>\n      <th>Calories</th>\n      <th>Time</th>\n      <th>URL</th>\n      <th>Ingredients_parsed</th>\n    </tr>\n  </thead>\n  <tbody>\n    <tr>\n      <th>0</th>\n      <td>Asparagus stir-fry</td>\n      <td>['350 g firm tofu', '2 teaspoons groundnut oil...</td>\n      <td>4</td>\n      <td>Not too tricky</td>\n      <td>248.0</td>\n      <td>00:00</td>\n      <td>https://www.jamieoliver.com/recipes/vegetable-...</td>\n      <td>firm tofu groundnut oil sesame seed cornflour ...</td>\n    </tr>\n    <tr>\n      <th>1</th>\n      <td>Sweet potato fishcakes</td>\n      <td>['500 g potatoes', '500 g sweet potatoes', '2 ...</td>\n      <td>4</td>\n      <td>Not too tricky</td>\n      <td>423.0</td>\n      <td>01:10</td>\n      <td>https://www.jamieoliver.com/recipes/fish-recip...</td>\n      <td>potato sweet potato red pepper extra virgin ol...</td>\n    </tr>\n    <tr>\n      <th>2</th>\n      <td>Spring chicken stew</td>\n      <td>['olive oil', '2 rashers of higher-welfare smo...</td>\n      <td>4</td>\n      <td>Not too tricky</td>\n      <td>549.0</td>\n      <td>01:10</td>\n      <td>https://www.jamieoliver.com/recipes/chicken-re...</td>\n      <td>olive oil rasher higher welfare smoked streaky...</td>\n    </tr>\n    <tr>\n      <th>3</th>\n      <td>Chicken goujons</td>\n      <td>['6 wholemeal pittas', '4 x 120 g free-range s...</td>\n      <td>4</td>\n      <td>Not too tricky</td>\n      <td>520.0</td>\n      <td>00:23</td>\n      <td>https://www.jamieoliver.com/recipes/chicken-re...</td>\n      <td>wholemeal pitta free range skinless chicken br...</td>\n    </tr>\n    <tr>\n      <th>4</th>\n      <td>Sweet &amp; sour stir-fry</td>\n      <td>['100 g fine rice noodles', '1 x 227 g tin of ...</td>\n      <td>2</td>\n      <td>Super easy</td>\n      <td>492.0</td>\n      <td>00:21</td>\n      <td>https://www.jamieoliver.com/recipes/vegetable-...</td>\n      <td>fine rice noodle tin pineapple chunk juice cor...</td>\n    </tr>\n  </tbody>\n</table>\n</div>"
     },
     "execution_count": 85,
     "metadata": {},
     "output_type": "execute_result"
    }
   ],
   "source": [
    "# Apply to 'Ingredients' column\n",
    "nlp_df['Ingredients_parsed'] = nlp_df['Ingredients'].apply(lambda x: ingredient_parser(x))\n",
    "nlp_df.head()"
   ],
   "metadata": {
    "collapsed": false,
    "ExecuteTime": {
     "end_time": "2023-08-31T10:42:06.831856400Z",
     "start_time": "2023-08-31T10:42:04.434269Z"
    }
   }
  },
  {
   "cell_type": "code",
   "execution_count": 86,
   "outputs": [
    {
     "name": "stdout",
     "output_type": "stream",
     "text": [
      "fresh;1505\n",
      "oil;1350\n",
      "olive;963\n",
      "a;831\n",
      "red;781\n",
      "garlic;642\n",
      "onion;627\n",
      "clove;607\n",
      "bunch;604\n",
      "or;586\n",
      "and;546\n",
      "leaf;522\n",
      "chilli;496\n",
      "pepper;474\n",
      "sauce;463\n",
      "large;458\n",
      "extra;424\n",
      "tomato;416\n",
      "lemon;402\n",
      "salt;401\n",
      "sprig;376\n",
      "ground;370\n",
      "handful;364\n",
      "small;363\n",
      "free;362\n",
      "dried;330\n",
      "chicken;322\n",
      "cheese;307\n",
      "white;298\n",
      "wine;294\n",
      "virgin;293\n",
      "from;287\n",
      "chopped;281\n",
      "black;267\n",
      "sustainable;264\n",
      "seed;263\n",
      "range;263\n",
      "vinegar;260\n",
      "for;247\n",
      "higher;244\n",
      "welfare;244\n",
      "coriander;242\n",
      "peeled;236\n",
      "egg;229\n",
      "piece;223\n",
      "tin;217\n",
      "water;215\n",
      "green;212\n",
      "finely;212\n",
      "sugar;209\n",
      "flour;207\n",
      "to;204\n",
      "ginger;201\n",
      "freshly;199\n",
      "quality;192\n",
      "ripe;186\n",
      "butter;185\n",
      "parsley;184\n",
      "sea;184\n",
      "few;183\n",
      "stock;182\n",
      "soy;177\n",
      "source;175\n",
      "potato;173\n",
      "carrot;172\n",
      "flat;165\n",
      "bean;164\n",
      "lime;163\n",
      "the;163\n",
      "thyme;163\n",
      "rice;161\n",
      "smoked;158\n",
      "organic;158\n",
      "sesame;153\n",
      "vegetable;152\n",
      "rosemary;144\n",
      "spring;144\n",
      "sliced;139\n",
      "plus;136\n",
      "fillet;136\n",
      "yoghurt;135\n",
      "plain;135\n",
      "stick;134\n",
      "cornstarch;133\n",
      "picked;132\n",
      "mint;131\n",
      "parmesan;128\n",
      "mixed;127\n",
      "your;120\n",
      "pork;120\n",
      "bay;119\n",
      "optional;118\n",
      "celery;117\n",
      "serve;116\n",
      "basil;116\n",
      "mustard;113\n",
      "cumin;113\n",
      "baby;112\n",
      "fennel;108\n",
      "unsalted;108\n",
      "plum;107\n",
      "natural;103\n",
      "paprika;103\n",
      "mushroom;103\n",
      "fat;100\n",
      "milk;98\n",
      "oyster;97\n",
      "skin;93\n",
      "powder;93\n",
      "sweet;92\n",
      "such;91\n",
      "ask;90\n",
      "juice;87\n",
      "into;87\n",
      "light;87\n",
      "roughly;82\n",
      "corn;81\n",
      "brown;80\n",
      "beef;80\n",
      "cut;78\n",
      "pea;77\n",
      "spinach;75\n",
      "fish;74\n",
      "stalk;74\n",
      "on;73\n",
      "yellow;73\n",
      "good;73\n",
      "bacon;69\n",
      "honey;69\n",
      "cherry;68\n",
      "grated;68\n",
      "cooking;68\n",
      "frozen;67\n",
      "bread;66\n",
      "trimmed;66\n",
      "cinnamon;65\n",
      "oregano;64\n",
      "orange;64\n",
      "knob;61\n",
      "shallot;61\n",
      "dusting;61\n",
      "low;60\n",
      "salad;59\n",
      "lamb;58\n",
      "runny;58\n",
      "deseeded;58\n",
      "cooked;57\n",
      "balsamic;57\n",
      "lettuce;55\n",
      "paste;54\n",
      "coconut;54\n",
      "breast;53\n",
      "streaky;52\n",
      "nutmeg;52\n",
      "pin;51\n",
      "rasher;51\n",
      "nut;51\n",
      "cream;51\n",
      "curry;50\n",
      "leek;50\n",
      "cabbage;49\n",
      "groundnut;48\n",
      "salmon;48\n",
      "noodle;47\n",
      "cheddar;47\n",
      "sausage;47\n",
      "sage;47\n",
      "dark;47\n",
      "turmeric;46\n",
      "squash;45\n",
      "broccoli;45\n",
      "rocket;45\n",
      "anchovy;44\n",
      "zest;44\n",
      "breadcrumb;43\n",
      "soft;43\n",
      "prawn;43\n",
      "grating;42\n",
      "avocado;41\n",
      "with;41\n",
      "bone;41\n",
      "courgette;40\n",
      "minced;40\n",
      "colour;40\n",
      "puree;40\n",
      "dry;40\n",
      "if;40\n",
      "halved;40\n",
      "skinless;39\n",
      "hot;38\n",
      "steak;38\n",
      "chickpea;37\n",
      "thigh;37\n",
      "tinned;37\n",
      "shrimp;37\n",
      "cucumber;36\n",
      "english;36\n",
      "feta;36\n",
      "butternut;36\n",
      "splash;36\n"
     ]
    }
   ],
   "source": [
    "# Get the 200 most common words using nltk.FreqDist()\n",
    "vocabulary = nltk.FreqDist()\n",
    "for ingredients in nlp_df['Ingredients_parsed']:\n",
    "    ingredients = ingredients.split()\n",
    "    vocabulary.update(ingredients)\n",
    "for word, frequency in vocabulary.most_common(200):\n",
    "    print(f'{word};{frequency}')"
   ],
   "metadata": {
    "collapsed": false,
    "ExecuteTime": {
     "end_time": "2023-08-31T10:42:06.832854Z",
     "start_time": "2023-08-31T10:42:06.500741800Z"
    }
   }
  },
  {
   "cell_type": "code",
   "execution_count": 87,
   "outputs": [
    {
     "name": "stdout",
     "output_type": "stream",
     "text": [
      "['fresh', 'oil', 'olive', 'a', 'red', 'garlic', 'onion', 'clove', 'bunch', 'or', 'and', 'leaf', 'chilli', 'pepper', 'sauce', 'large', 'extra', 'tomato', 'lemon', 'salt', 'sprig', 'ground', 'handful', 'small', 'free', 'dried', 'chicken', 'cheese', 'white', 'wine', 'virgin', 'from', 'chopped', 'black', 'sustainable', 'seed', 'range', 'vinegar', 'for', 'higher', 'welfare', 'coriander', 'peeled', 'egg', 'piece', 'tin', 'water', 'green', 'finely', 'sugar', 'flour', 'to', 'ginger', 'freshly', 'quality', 'ripe', 'butter', 'parsley', 'sea', 'few', 'stock', 'soy', 'source', 'potato', 'carrot', 'flat', 'bean', 'lime', 'the', 'thyme', 'rice', 'smoked', 'organic', 'sesame', 'vegetable', 'rosemary', 'spring', 'sliced', 'plus', 'fillet', 'yoghurt', 'plain', 'stick', 'cornstarch', 'picked', 'mint', 'parmesan', 'mixed', 'your', 'pork', 'bay', 'optional', 'celery', 'serve', 'basil', 'mustard', 'cumin', 'baby', 'fennel', 'unsalted', 'plum', 'natural', 'paprika', 'mushroom', 'fat', 'milk', 'oyster', 'skin', 'powder', 'sweet', 'such', 'ask', 'juice', 'into', 'light', 'roughly', 'corn', 'brown', 'beef', 'cut', 'pea', 'spinach', 'fish', 'stalk', 'on', 'yellow', 'good', 'bacon', 'honey', 'cherry', 'grated', 'cooking', 'frozen', 'bread', 'trimmed', 'cinnamon', 'oregano', 'orange', 'knob', 'shallot', 'dusting', 'low', 'salad', 'lamb', 'runny', 'deseeded', 'cooked', 'balsamic', 'lettuce', 'paste', 'coconut', 'breast', 'streaky', 'nutmeg', 'pin', 'rasher', 'nut', 'cream', 'curry', 'leek', 'cabbage', 'groundnut', 'salmon', 'noodle', 'cheddar', 'sausage', 'sage', 'dark', 'turmeric', 'squash', 'broccoli', 'rocket', 'anchovy', 'zest', 'breadcrumb', 'soft', 'prawn', 'grating', 'avocado', 'with', 'bone', 'courgette', 'minced', 'colour', 'puree', 'dry', 'if', 'halved', 'skinless', 'hot', 'steak', 'chickpea', 'thigh', 'tinned', 'shrimp', 'cucumber', 'english', 'feta', 'butternut', 'splash', 'apple', 'leftover', 'washed', 'chili', 'thick', 'chive', 'pancetta', 'dill', 'ciabatta', 'watercress', 'chestnut', 'you', 'flake', 'caper', 'spice', 'big', 'dijon', 'other', 'pastry', 'chinese', 'shoulder', 'fishmonger', 'use', 'removed', 'firm', 'cayenne', 'pasta', 'sized', 'salsa', 'drained', 'bell', 'wholemeal', 'cider', 'worcestershire', 'cube', 'basmati', 'pine', 'creme', 'fraiche', 'raw', 'king', 'ketchup', 'bouillon', 'tofu', 'asparagus', 'new', 'little', 'peanut', 'baking', 'fine']\n"
     ]
    }
   ],
   "source": [
    "# Get a list of the 250 most common words\n",
    "common_words = []\n",
    "for word, _ in vocabulary.most_common(250):\n",
    "    common_words.append(word)\n",
    "print(common_words)"
   ],
   "metadata": {
    "collapsed": false,
    "ExecuteTime": {
     "end_time": "2023-08-31T10:42:06.845818200Z",
     "start_time": "2023-08-31T10:42:06.604465400Z"
    }
   }
  },
  {
   "cell_type": "markdown",
   "source": [
    "Remove stop words and other most common words in the ingredients that are useless to the model. For example 'salt' and 'oil', we can assume everyone looking for a recipe has salt and oil in their kitchen.\n",
    "We got the 250 most common words in the ingredients, however, some of these words include ingredients that are actually useful for the model so I manually took out these ingredients:\n",
    "['onion', 'tomato', 'lemon', 'chicken', 'wine', 'cheese', 'egg', 'ginger', 'coriander', 'carrot', 'rice', 'butter', 'oyster', 'potato', 'lime', 'thyme', 'rosemary', 'pork', 'yoghurt', 'mushroom', 'mint', 'celery', 'parmesan', 'basil', 'mustard', 'cumin', 'fennel', 'milk', 'paprika', 'beef', 'pea', 'spinach', 'honey', 'shallot', 'shrimp', 'bacon', 'cinnamon', 'oregano', 'noodle', 'cabbage', 'lamb', 'coconut', 'lettuce', 'sausage', 'broccoli', 'nutmeg', 'leek', 'salmon', 'cheddar', 'sage', 'turmeric', 'rocket', 'anchovy', 'prawn', 'breadcrumb', 'tofu', 'avocado', 'courgette', 'cucumber', 'chickpea', 'ketchup', 'feta', 'apple', 'chestnut', 'pancetta', 'dill', 'ciabatta', 'watercress', 'peanut', 'cayenne', 'pasta']"
   ],
   "metadata": {
    "collapsed": false
   }
  },
  {
   "cell_type": "code",
   "execution_count": 88,
   "outputs": [],
   "source": [
    "# Make a list of actual ingredients so we don't take them out\n",
    "actual_ingreds = ['garlic','onion', 'tomato', 'lemon', 'chicken', 'wine', 'cheese', 'egg', 'ginger', 'coriander', 'carrot', 'rice', 'butter', 'oyster', 'potato', 'lime', 'thyme', 'rosemary', 'pork', 'yoghurt', 'mushroom', 'mint', 'celery', 'parmesan', 'basil', 'mustard', 'cumin', 'fennel', 'milk', 'paprika', 'beef', 'pea', 'spinach', 'honey', 'shallot', 'shrimp', 'bacon', 'cinnamon', 'oregano', 'noodle', 'cabbage', 'lamb', 'coconut', 'lettuce', 'sausage', 'broccoli', 'nutmeg', 'leek', 'salmon', 'cheddar', 'sage', 'turmeric', 'rocket', 'anchovy', 'prawn', 'breadcrumb', 'tofu', 'avocado', 'courgette', 'cucumber', 'chickpea', 'ketchup', 'feta', 'apple', 'chestnut', 'pancetta', 'dill', 'ciabatta', 'watercress', 'peanut', 'cayenne', 'pasta']\n",
    "# Filter through 'actual_ingreds' list\n",
    "new_common_words = [word for word in common_words if word not in actual_ingreds]"
   ],
   "metadata": {
    "collapsed": false,
    "ExecuteTime": {
     "end_time": "2023-08-31T10:42:06.892694700Z",
     "start_time": "2023-08-31T10:42:06.632391900Z"
    }
   }
  },
  {
   "cell_type": "code",
   "execution_count": 89,
   "outputs": [
    {
     "data": {
      "text/plain": "178"
     },
     "execution_count": 89,
     "metadata": {},
     "output_type": "execute_result"
    }
   ],
   "source": [
    "# Check length of new list\n",
    "len(new_common_words)"
   ],
   "metadata": {
    "collapsed": false,
    "ExecuteTime": {
     "end_time": "2023-08-31T10:42:06.893693Z",
     "start_time": "2023-08-31T10:42:06.665302800Z"
    }
   }
  },
  {
   "cell_type": "code",
   "execution_count": 90,
   "outputs": [],
   "source": [
    "# Function that removes stop words/most common words\n",
    "def remove_stop_words(ingredients):\n",
    "    ingred_list = ingredients.split()\n",
    "    new_ingred_list = [i for i in ingred_list if i not in new_common_words]\n",
    "    return ' '.join(new_ingred_list)"
   ],
   "metadata": {
    "collapsed": false,
    "ExecuteTime": {
     "end_time": "2023-08-31T10:42:06.893693Z",
     "start_time": "2023-08-31T10:42:06.695222300Z"
    }
   }
  },
  {
   "cell_type": "code",
   "execution_count": 91,
   "outputs": [
    {
     "data": {
      "text/plain": "                    Title                                        Ingredients  \\\n0      Asparagus stir-fry  ['350 g firm tofu', '2 teaspoons groundnut oil...   \n1  Sweet potato fishcakes  ['500 g potatoes', '500 g sweet potatoes', '2 ...   \n2     Spring chicken stew  ['olive oil', '2 rashers of higher-welfare smo...   \n3         Chicken goujons  ['6 wholemeal pittas', '4 x 120 g free-range s...   \n4   Sweet & sour stir-fry  ['100 g fine rice noodles', '1 x 227 g tin of ...   \n\n  Servings      Difficulty Calories   Time  \\\n0        4  Not too tricky    248.0  00:00   \n1        4  Not too tricky    423.0  01:10   \n2        4  Not too tricky    549.0  01:10   \n3        4  Not too tricky    520.0  00:23   \n4        2      Super easy    492.0  00:21   \n\n                                                 URL  \\\n0  https://www.jamieoliver.com/recipes/vegetable-...   \n1  https://www.jamieoliver.com/recipes/fish-recip...   \n2  https://www.jamieoliver.com/recipes/chicken-re...   \n3  https://www.jamieoliver.com/recipes/chicken-re...   \n4  https://www.jamieoliver.com/recipes/vegetable-...   \n\n                                  Ingredients_parsed  \\\n0  firm tofu groundnut oil sesame seed cornflour ...   \n1  potato sweet potato red pepper extra virgin ol...   \n2  olive oil rasher higher welfare smoked streaky...   \n3  wholemeal pitta free range skinless chicken br...   \n4  fine rice noodle tin pineapple chunk juice cor...   \n\n                                   Ingredients_final  \n0  tofu cornflour wine garlic ginger beansprouts ...  \n1  potato potato chipotle tabasco boned cucumber ...  \n2  bacon rosemary onion carrot potato pearl barle...  \n3  pitta chicken basil egg garlic parmesan cheese...  \n4  rice noodle pineapple chunk cornflour cashew o...  ",
      "text/html": "<div>\n<style scoped>\n    .dataframe tbody tr th:only-of-type {\n        vertical-align: middle;\n    }\n\n    .dataframe tbody tr th {\n        vertical-align: top;\n    }\n\n    .dataframe thead th {\n        text-align: right;\n    }\n</style>\n<table border=\"1\" class=\"dataframe\">\n  <thead>\n    <tr style=\"text-align: right;\">\n      <th></th>\n      <th>Title</th>\n      <th>Ingredients</th>\n      <th>Servings</th>\n      <th>Difficulty</th>\n      <th>Calories</th>\n      <th>Time</th>\n      <th>URL</th>\n      <th>Ingredients_parsed</th>\n      <th>Ingredients_final</th>\n    </tr>\n  </thead>\n  <tbody>\n    <tr>\n      <th>0</th>\n      <td>Asparagus stir-fry</td>\n      <td>['350 g firm tofu', '2 teaspoons groundnut oil...</td>\n      <td>4</td>\n      <td>Not too tricky</td>\n      <td>248.0</td>\n      <td>00:00</td>\n      <td>https://www.jamieoliver.com/recipes/vegetable-...</td>\n      <td>firm tofu groundnut oil sesame seed cornflour ...</td>\n      <td>tofu cornflour wine garlic ginger beansprouts ...</td>\n    </tr>\n    <tr>\n      <th>1</th>\n      <td>Sweet potato fishcakes</td>\n      <td>['500 g potatoes', '500 g sweet potatoes', '2 ...</td>\n      <td>4</td>\n      <td>Not too tricky</td>\n      <td>423.0</td>\n      <td>01:10</td>\n      <td>https://www.jamieoliver.com/recipes/fish-recip...</td>\n      <td>potato sweet potato red pepper extra virgin ol...</td>\n      <td>potato potato chipotle tabasco boned cucumber ...</td>\n    </tr>\n    <tr>\n      <th>2</th>\n      <td>Spring chicken stew</td>\n      <td>['olive oil', '2 rashers of higher-welfare smo...</td>\n      <td>4</td>\n      <td>Not too tricky</td>\n      <td>549.0</td>\n      <td>01:10</td>\n      <td>https://www.jamieoliver.com/recipes/chicken-re...</td>\n      <td>olive oil rasher higher welfare smoked streaky...</td>\n      <td>bacon rosemary onion carrot potato pearl barle...</td>\n    </tr>\n    <tr>\n      <th>3</th>\n      <td>Chicken goujons</td>\n      <td>['6 wholemeal pittas', '4 x 120 g free-range s...</td>\n      <td>4</td>\n      <td>Not too tricky</td>\n      <td>520.0</td>\n      <td>00:23</td>\n      <td>https://www.jamieoliver.com/recipes/chicken-re...</td>\n      <td>wholemeal pitta free range skinless chicken br...</td>\n      <td>pitta chicken basil egg garlic parmesan cheese...</td>\n    </tr>\n    <tr>\n      <th>4</th>\n      <td>Sweet &amp; sour stir-fry</td>\n      <td>['100 g fine rice noodles', '1 x 227 g tin of ...</td>\n      <td>2</td>\n      <td>Super easy</td>\n      <td>492.0</td>\n      <td>00:21</td>\n      <td>https://www.jamieoliver.com/recipes/vegetable-...</td>\n      <td>fine rice noodle tin pineapple chunk juice cor...</td>\n      <td>rice noodle pineapple chunk cornflour cashew o...</td>\n    </tr>\n  </tbody>\n</table>\n</div>"
     },
     "execution_count": 91,
     "metadata": {},
     "output_type": "execute_result"
    }
   ],
   "source": [
    "# Make a final ingredients column that has remove_stop_words() applied to it\n",
    "nlp_df['Ingredients_final'] = nlp_df['Ingredients_parsed'].apply(lambda x: remove_stop_words(x))\n",
    "nlp_df.head()"
   ],
   "metadata": {
    "collapsed": false,
    "ExecuteTime": {
     "end_time": "2023-08-31T10:42:07.050271400Z",
     "start_time": "2023-08-31T10:42:06.710180900Z"
    }
   }
  },
  {
   "cell_type": "code",
   "execution_count": 92,
   "outputs": [],
   "source": [
    "# Save to .csv file\n",
    "nlp_df.to_csv('Cleaned_data.csv')"
   ],
   "metadata": {
    "collapsed": false,
    "ExecuteTime": {
     "end_time": "2023-08-31T10:42:07.161972400Z",
     "start_time": "2023-08-31T10:42:06.868756900Z"
    }
   }
  }
 ],
 "metadata": {
  "kernelspec": {
   "display_name": "Python 3",
   "language": "python",
   "name": "python3"
  },
  "language_info": {
   "codemirror_mode": {
    "name": "ipython",
    "version": 2
   },
   "file_extension": ".py",
   "mimetype": "text/x-python",
   "name": "python",
   "nbconvert_exporter": "python",
   "pygments_lexer": "ipython2",
   "version": "2.7.6"
  }
 },
 "nbformat": 4,
 "nbformat_minor": 0
}
